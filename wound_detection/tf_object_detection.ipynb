{
 "cells": [
  {
   "cell_type": "code",
   "execution_count": 2,
   "metadata": {},
   "outputs": [],
   "source": [
    "import cv2\n",
    "import mediapipe as mp\n",
    "import numpy as np\n",
    "import tensorflow as tf\n"
   ]
  },
  {
   "cell_type": "code",
   "execution_count": 3,
   "metadata": {},
   "outputs": [
    {
     "ename": "ValueError",
     "evalue": "Cannot set tensor: Got value of type UINT8 but expected type FLOAT32 for input 0, name: serving_default_input_1:0 ",
     "output_type": "error",
     "traceback": [
      "\u001b[0;31m---------------------------------------------------------------------------\u001b[0m",
      "\u001b[0;31mValueError\u001b[0m                                Traceback (most recent call last)",
      "Cell \u001b[0;32mIn[3], line 31\u001b[0m\n\u001b[1;32m     29\u001b[0m \u001b[39m# Run TFLite model to predict wound location and name\u001b[39;00m\n\u001b[1;32m     30\u001b[0m input_data \u001b[39m=\u001b[39m np\u001b[39m.\u001b[39mexpand_dims(frame, axis\u001b[39m=\u001b[39m\u001b[39m0\u001b[39m)\n\u001b[0;32m---> 31\u001b[0m interpreter\u001b[39m.\u001b[39;49mset_tensor(input_details[\u001b[39m0\u001b[39;49m][\u001b[39m'\u001b[39;49m\u001b[39mindex\u001b[39;49m\u001b[39m'\u001b[39;49m], input_data)\n\u001b[1;32m     32\u001b[0m interpreter\u001b[39m.\u001b[39minvoke()\n\u001b[1;32m     33\u001b[0m output_data \u001b[39m=\u001b[39m interpreter\u001b[39m.\u001b[39mget_tensor(output_details[\u001b[39m0\u001b[39m][\u001b[39m'\u001b[39m\u001b[39mindex\u001b[39m\u001b[39m'\u001b[39m])\n",
      "File \u001b[0;32m~/miniforge3/envs/tf/lib/python3.8/site-packages/tensorflow/lite/python/interpreter.py:697\u001b[0m, in \u001b[0;36mInterpreter.set_tensor\u001b[0;34m(self, tensor_index, value)\u001b[0m\n\u001b[1;32m    681\u001b[0m \u001b[39mdef\u001b[39;00m \u001b[39mset_tensor\u001b[39m(\u001b[39mself\u001b[39m, tensor_index, value):\n\u001b[1;32m    682\u001b[0m   \u001b[39m\"\"\"Sets the value of the input tensor.\u001b[39;00m\n\u001b[1;32m    683\u001b[0m \n\u001b[1;32m    684\u001b[0m \u001b[39m  Note this copies data in `value`.\u001b[39;00m\n\u001b[0;32m   (...)\u001b[0m\n\u001b[1;32m    695\u001b[0m \u001b[39m    ValueError: If the interpreter could not set the tensor.\u001b[39;00m\n\u001b[1;32m    696\u001b[0m \u001b[39m  \"\"\"\u001b[39;00m\n\u001b[0;32m--> 697\u001b[0m   \u001b[39mself\u001b[39;49m\u001b[39m.\u001b[39;49m_interpreter\u001b[39m.\u001b[39;49mSetTensor(tensor_index, value)\n",
      "\u001b[0;31mValueError\u001b[0m: Cannot set tensor: Got value of type UINT8 but expected type FLOAT32 for input 0, name: serving_default_input_1:0 "
     ]
    }
   ],
   "source": [
    "\n",
    "# Load TFLite model\n",
    "interpreter = tf.lite.Interpreter(model_path=\"best-fp16.tflite\")\n",
    "interpreter.allocate_tensors()\n",
    "input_details = interpreter.get_input_details()\n",
    "output_details = interpreter.get_output_details()\n",
    "\n",
    "# Load MediaPipe Pose model\n",
    "mp_pose = mp.solutions.pose\n",
    "pose = mp_pose.Pose()\n",
    "\n",
    "# Define function to find nearest landmark to a point\n",
    "def find_nearest_landmark(point, landmarks):\n",
    "    distances = np.linalg.norm(landmarks - point, axis=1)\n",
    "    nearest_idx = np.argmin(distances)\n",
    "    return landmarks[nearest_idx]\n",
    "\n",
    "# Open webcam\n",
    "cap = cv2.VideoCapture(0)\n",
    "\n",
    "while True:\n",
    "    # Read frame from webcam\n",
    "    ret, frame = cap.read()\n",
    "\n",
    "    # Run MediaPipe Pose model to get landmarks\n",
    "    image = cv2.cvtColor(frame, cv2.COLOR_BGR2RGB)\n",
    "    results = pose.process(image)\n",
    "    landmarks = np.array([[landmark.x, landmark.y] for landmark in results.pose_landmarks.landmark])\n",
    "\n",
    "    # Run TFLite model to predict wound location and name\n",
    "    input_data = np.expand_dims(frame, axis=0)\n",
    "    interpreter.set_tensor(input_details[0]['index'], input_data)\n",
    "    interpreter.invoke()\n",
    "    output_data = interpreter.get_tensor(output_details[0]['index'])\n",
    "    wound_location = output_data[0][:2]\n",
    "    wound_name = output_data[0][2]\n",
    "\n",
    "    # Draw red bounding box around wound location\n",
    "    x, y = map(int, wound_location)\n",
    "    cv2.rectangle(frame, (x-20, y-20), (x+20, y+20), (0, 0, 255), 2)\n",
    "\n",
    "    # Find 2 landmarks near wound location\n",
    "    nearest_landmarks = np.array([\n",
    "        find_nearest_landmark(wound_location, landmarks),\n",
    "        find_nearest_landmark(wound_location + np.array([0, -50]), landmarks)\n",
    "    ])\n",
    "\n",
    "    # If wound is a bite wound, find nearest landmark near shoulder or hip\n",
    "    if wound_name == 'bite_wound':\n",
    "        candidate_landmarks = np.array([\n",
    "            find_nearest_landmark(landmarks[mp_pose.PoseLandmark.LEFT_SHOULDER.value], landmarks),\n",
    "            find_nearest_landmark(landmarks[mp_pose.PoseLandmark.RIGHT_SHOULDER.value], landmarks),\n",
    "            find_nearest_landmark(landmarks[mp_pose.PoseLandmark.LEFT_HIP.value], landmarks),\n",
    "            find_nearest_landmark(landmarks[mp_pose.PoseLandmark.RIGHT_HIP.value], landmarks)\n",
    "        ])\n",
    "        nearest_landmarks[1] = find_nearest_landmark(nearest_landmarks[0], candidate_landmarks)\n",
    "\n",
    "    # Calculate midpoint between wound location and nearest landmark\n",
    "    midpoint = np.mean(nearest_landmarks, axis=0)\n",
    "\n",
    "    # Draw red circle at midpoint\n",
    "    cv2.circle(frame, tuple(map(int, midpoint)), 10, (0, 0, 255), -1)\n",
    "\n",
    "    # Show frame\n",
    "    cv2.imshow('Frame', frame)\n",
    "\n",
    "    # Exit if 'q' key is pressed\n",
    "    if cv2.waitKey(1) & 0xFF == ord('q'):\n",
    "        break\n",
    "\n",
    "# Release resources\n",
    "cap.release()\n",
    "cv2.destroyAllWindows()\n"
   ]
  },
  {
   "cell_type": "code",
   "execution_count": null,
   "metadata": {},
   "outputs": [],
   "source": []
  }
 ],
 "metadata": {
  "kernelspec": {
   "display_name": "tf",
   "language": "python",
   "name": "python3"
  },
  "language_info": {
   "codemirror_mode": {
    "name": "ipython",
    "version": 3
   },
   "file_extension": ".py",
   "mimetype": "text/x-python",
   "name": "python",
   "nbconvert_exporter": "python",
   "pygments_lexer": "ipython3",
   "version": "3.8.6"
  },
  "orig_nbformat": 4
 },
 "nbformat": 4,
 "nbformat_minor": 2
}
