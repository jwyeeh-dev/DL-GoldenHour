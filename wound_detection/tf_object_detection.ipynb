{
 "cells": [
  {
   "attachments": {},
   "cell_type": "markdown",
   "metadata": {},
   "source": [
    "### Mac OS Protobuf Error Fixing Code Snipet"
   ]
  },
  {
   "cell_type": "code",
   "execution_count": null,
   "metadata": {},
   "outputs": [],
   "source": [
    "import cv2\n",
    "import mediapipe as mp\n",
    "import numpy as np\n",
    "import tensorflow as tf\n"
   ]
  },
  {
   "cell_type": "code",
   "execution_count": null,
   "metadata": {},
   "outputs": [],
   "source": [
    "\n",
    "# Load TFLite model\n",
    "interpreter = tf.lite.Interpreter(model_path=\"/Volumes/T7/Project_Database/2023_Google_Solution_Challenge/DL-GoldenHour/wound_detection/wound_detection_model/best_metadata.tflite\")\n",
    "interpreter.allocate_tensors()\n",
    "input_details = interpreter.get_input_details()\n",
    "output_details = interpreter.get_output_details()\n",
    "\n",
    "# Load MediaPipe Pose model\n",
    "mp_pose = mp.solutions.pose\n",
    "pose = mp_pose.Pose()\n",
    "\n",
    "# Define function to find nearest landmark to a point\n",
    "def find_nearest_landmark(point, landmarks):\n",
    "    distances = np.linalg.norm(landmarks - point, axis=1)\n",
    "    nearest_idx = np.argmin(distances)\n",
    "    return landmarks[nearest_idx]\n",
    "\n",
    "# Open webcam\n",
    "cap = cv2.VideoCapture(0)\n",
    "\n",
    "while True:\n",
    "    # Read frame from webcam\n",
    "    ret, frame = cap.read()\n",
    "\n",
    "    # Run MediaPipe Pose model to get landmarks\n",
    "    image = cv2.cvtColor(frame, cv2.COLOR_BGR2RGB)\n",
    "    results = pose.process(image)\n",
    "    landmarks = np.array([[landmark.x, landmark.y] for landmark in results.pose_landmarks.landmark])\n",
    "\n",
    "    # Run TFLite model to predict wound location and name\n",
    "    input_data = np.expand_dims(frame, axis=0)\n",
    "    interpreter.set_tensor(input_details[0]['index'], input_data)\n",
    "    interpreter.invoke()\n",
    "    output_data = interpreter.get_tensor(output_details[0]['index'])\n",
    "    wound_location = output_data[0][:2]\n",
    "    wound_name = output_data[0][2]\n",
    "\n",
    "    # Draw red bounding box around wound location\n",
    "    x, y = map(int, wound_location)\n",
    "    cv2.rectangle(frame, (x-20, y-20), (x+20, y+20), (0, 0, 255), 2)\n",
    "\n",
    "    # Find 2 landmarks near wound location\n",
    "    nearest_landmarks = np.array([\n",
    "        find_nearest_landmark(wound_location, landmarks),\n",
    "        find_nearest_landmark(wound_location + np.array([0, -50]), landmarks)\n",
    "    ])\n",
    "\n",
    "    # If wound is a bite wound, find nearest landmark near shoulder or hip\n",
    "    if wound_name == 'wound_ulcer':\n",
    "        candidate_landmarks = np.array([\n",
    "            find_nearest_landmark(landmarks[mp_pose.PoseLandmark.LEFT_SHOULDER.value], landmarks),\n",
    "            find_nearest_landmark(landmarks[mp_pose.PoseLandmark.RIGHT_SHOULDER.value], landmarks),\n",
    "            find_nearest_landmark(landmarks[mp_pose.PoseLandmark.LEFT_HIP.value], landmarks),\n",
    "            find_nearest_landmark(landmarks[mp_pose.PoseLandmark.RIGHT_HIP.value], landmarks)\n",
    "        ])\n",
    "        nearest_landmarks[1] = find_nearest_landmark(nearest_landmarks[0], candidate_landmarks)\n",
    "\n",
    "    # Calculate midpoint between wound location and nearest landmark\n",
    "    midpoint = np.mean(nearest_landmarks, axis=0)\n",
    "\n",
    "    # Draw red circle at midpoint\n",
    "    cv2.circle(frame, tuple(map(int, midpoint)), 10, (0, 0, 255), -1)\n",
    "\n",
    "    # Show frame\n",
    "    cv2.imshow('Frame', frame)\n",
    "\n",
    "    # Exit if 'q' key is pressed\n",
    "    if cv2.waitKey(1) & 0xFF == ord('q'):\n",
    "        break\n",
    "\n",
    "# Release resources\n",
    "cap.release()\n",
    "cv2.destroyAllWindows()\n"
   ]
  },
  {
   "cell_type": "code",
   "execution_count": null,
   "metadata": {},
   "outputs": [],
   "source": []
  }
 ],
 "metadata": {
  "kernelspec": {
   "display_name": "tf",
   "language": "python",
   "name": "python3"
  },
  "language_info": {
   "codemirror_mode": {
    "name": "ipython",
    "version": 3
   },
   "file_extension": ".py",
   "mimetype": "text/x-python",
   "name": "python",
   "nbconvert_exporter": "python",
   "pygments_lexer": "ipython3",
   "version": "3.8.6"
  },
  "orig_nbformat": 4
 },
 "nbformat": 4,
 "nbformat_minor": 2
}
