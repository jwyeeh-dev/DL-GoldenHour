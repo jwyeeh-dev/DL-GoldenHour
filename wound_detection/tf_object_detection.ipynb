{
 "cells": [
  {
   "attachments": {},
   "cell_type": "markdown",
   "metadata": {},
   "source": [
    "### Mac OS Protobuf Error Fixing Code Snipet"
   ]
  },
  {
   "cell_type": "code",
   "execution_count": 4,
   "metadata": {},
   "outputs": [
    {
     "name": "stdout",
     "output_type": "stream",
     "text": [
      "Collecting protobuf==3.19.4\n",
      "  Using cached protobuf-3.19.4-py2.py3-none-any.whl (162 kB)\n",
      "Installing collected packages: protobuf\n",
      "  Attempting uninstall: protobuf\n",
      "    Found existing installation: protobuf 4.22.1\n",
      "    Uninstalling protobuf-4.22.1:\n",
      "      Successfully uninstalled protobuf-4.22.1\n",
      "\u001b[31mERROR: pip's dependency resolver does not currently take into account all the packages that are installed. This behaviour is the source of the following dependency conflicts.\n",
      "onnx 1.13.1 requires protobuf<4,>=3.20.2, but you have protobuf 3.19.4 which is incompatible.\u001b[0m\u001b[31m\n",
      "\u001b[0mSuccessfully installed protobuf-3.19.4\n"
     ]
    }
   ],
   "source": [
    "!pip install protobuf==3.19.4\n",
    "\n"
   ]
  },
  {
   "cell_type": "code",
   "execution_count": 1,
   "metadata": {},
   "outputs": [
    {
     "name": "stderr",
     "output_type": "stream",
     "text": [
      "objc[49627]: Class CaptureDelegate is implemented in both /Users/hwangjaeyeong/miniforge3/envs/tf/lib/python3.8/site-packages/cv2/cv2.abi3.so (0x15b1524e8) and /Users/hwangjaeyeong/miniforge3/envs/tf/lib/python3.8/site-packages/mediapipe/.dylibs/libopencv_videoio.3.4.16.dylib (0x12a2e0860). One of the two will be used. Which one is undefined.\n",
      "objc[49627]: Class CVWindow is implemented in both /Users/hwangjaeyeong/miniforge3/envs/tf/lib/python3.8/site-packages/cv2/cv2.abi3.so (0x15b152538) and /Users/hwangjaeyeong/miniforge3/envs/tf/lib/python3.8/site-packages/mediapipe/.dylibs/libopencv_highgui.3.4.16.dylib (0x10a848a68). One of the two will be used. Which one is undefined.\n",
      "objc[49627]: Class CVView is implemented in both /Users/hwangjaeyeong/miniforge3/envs/tf/lib/python3.8/site-packages/cv2/cv2.abi3.so (0x15b152560) and /Users/hwangjaeyeong/miniforge3/envs/tf/lib/python3.8/site-packages/mediapipe/.dylibs/libopencv_highgui.3.4.16.dylib (0x10a848a90). One of the two will be used. Which one is undefined.\n",
      "objc[49627]: Class CVSlider is implemented in both /Users/hwangjaeyeong/miniforge3/envs/tf/lib/python3.8/site-packages/cv2/cv2.abi3.so (0x15b152588) and /Users/hwangjaeyeong/miniforge3/envs/tf/lib/python3.8/site-packages/mediapipe/.dylibs/libopencv_highgui.3.4.16.dylib (0x10a848ab8). One of the two will be used. Which one is undefined.\n"
     ]
    },
    {
     "ename": "NotFoundError",
     "evalue": "dlopen(/Users/hwangjaeyeong/miniforge3/envs/tf/lib/python3.8/site-packages/tensorflow-plugins/libmetal_plugin.dylib, 0x0006): symbol not found in flat namespace '__ZN10tensorflow8internal10LogMessage16VmoduleActivatedEPKci'",
     "output_type": "error",
     "traceback": [
      "\u001b[0;31m---------------------------------------------------------------------------\u001b[0m",
      "\u001b[0;31mNotFoundError\u001b[0m                             Traceback (most recent call last)",
      "Cell \u001b[0;32mIn[1], line 2\u001b[0m\n\u001b[1;32m      1\u001b[0m \u001b[39mimport\u001b[39;00m \u001b[39mcv2\u001b[39;00m\n\u001b[0;32m----> 2\u001b[0m \u001b[39mimport\u001b[39;00m \u001b[39mmediapipe\u001b[39;00m \u001b[39mas\u001b[39;00m \u001b[39mmp\u001b[39;00m\n\u001b[1;32m      3\u001b[0m \u001b[39mimport\u001b[39;00m \u001b[39mnumpy\u001b[39;00m \u001b[39mas\u001b[39;00m \u001b[39mnp\u001b[39;00m\n\u001b[1;32m      4\u001b[0m \u001b[39mimport\u001b[39;00m \u001b[39mtensorflow\u001b[39;00m \u001b[39mas\u001b[39;00m \u001b[39mtf\u001b[39;00m\n",
      "File \u001b[0;32m~/miniforge3/envs/tf/lib/python3.8/site-packages/mediapipe/__init__.py:17\u001b[0m\n\u001b[1;32m     15\u001b[0m \u001b[39mfrom\u001b[39;00m \u001b[39mmediapipe\u001b[39;00m\u001b[39m.\u001b[39;00m\u001b[39mpython\u001b[39;00m \u001b[39mimport\u001b[39;00m \u001b[39m*\u001b[39m\n\u001b[1;32m     16\u001b[0m \u001b[39mimport\u001b[39;00m \u001b[39mmediapipe\u001b[39;00m\u001b[39m.\u001b[39;00m\u001b[39mpython\u001b[39;00m\u001b[39m.\u001b[39;00m\u001b[39msolutions\u001b[39;00m \u001b[39mas\u001b[39;00m \u001b[39msolutions\u001b[39;00m \n\u001b[0;32m---> 17\u001b[0m \u001b[39mimport\u001b[39;00m \u001b[39mmediapipe\u001b[39;00m\u001b[39m.\u001b[39;00m\u001b[39mtasks\u001b[39;00m\u001b[39m.\u001b[39;00m\u001b[39mpython\u001b[39;00m \u001b[39mas\u001b[39;00m \u001b[39mtasks\u001b[39;00m\n\u001b[1;32m     20\u001b[0m \u001b[39mdel\u001b[39;00m framework\n\u001b[1;32m     21\u001b[0m \u001b[39mdel\u001b[39;00m gpu\n",
      "File \u001b[0;32m~/miniforge3/envs/tf/lib/python3.8/site-packages/mediapipe/tasks/python/__init__.py:17\u001b[0m\n\u001b[1;32m      1\u001b[0m \u001b[39m# Copyright 2022 The MediaPipe Authors. All Rights Reserved.\u001b[39;00m\n\u001b[1;32m      2\u001b[0m \u001b[39m#\u001b[39;00m\n\u001b[1;32m      3\u001b[0m \u001b[39m# Licensed under the Apache License, Version 2.0 (the \"License\");\u001b[39;00m\n\u001b[0;32m   (...)\u001b[0m\n\u001b[1;32m     12\u001b[0m \u001b[39m# See the License for the specific language governing permissions and\u001b[39;00m\n\u001b[1;32m     13\u001b[0m \u001b[39m# limitations under the License.\u001b[39;00m\n\u001b[1;32m     15\u001b[0m \u001b[39m\"\"\"MediaPipe Tasks API.\"\"\"\u001b[39;00m\n\u001b[0;32m---> 17\u001b[0m \u001b[39mfrom\u001b[39;00m \u001b[39m.\u001b[39;00m \u001b[39mimport\u001b[39;00m audio\n\u001b[1;32m     18\u001b[0m \u001b[39mfrom\u001b[39;00m \u001b[39m.\u001b[39;00m \u001b[39mimport\u001b[39;00m components\n\u001b[1;32m     19\u001b[0m \u001b[39mfrom\u001b[39;00m \u001b[39m.\u001b[39;00m \u001b[39mimport\u001b[39;00m core\n",
      "File \u001b[0;32m~/miniforge3/envs/tf/lib/python3.8/site-packages/mediapipe/tasks/python/audio/__init__.py:18\u001b[0m\n\u001b[1;32m     15\u001b[0m \u001b[39m\"\"\"MediaPipe Tasks Audio API.\"\"\"\u001b[39;00m\n\u001b[1;32m     17\u001b[0m \u001b[39mimport\u001b[39;00m \u001b[39mmediapipe\u001b[39;00m\u001b[39m.\u001b[39;00m\u001b[39mtasks\u001b[39;00m\u001b[39m.\u001b[39;00m\u001b[39mpython\u001b[39;00m\u001b[39m.\u001b[39;00m\u001b[39maudio\u001b[39;00m\u001b[39m.\u001b[39;00m\u001b[39mcore\u001b[39;00m\n\u001b[0;32m---> 18\u001b[0m \u001b[39mimport\u001b[39;00m \u001b[39mmediapipe\u001b[39;00m\u001b[39m.\u001b[39;00m\u001b[39mtasks\u001b[39;00m\u001b[39m.\u001b[39;00m\u001b[39mpython\u001b[39;00m\u001b[39m.\u001b[39;00m\u001b[39maudio\u001b[39;00m\u001b[39m.\u001b[39;00m\u001b[39maudio_classifier\u001b[39;00m\n\u001b[1;32m     19\u001b[0m \u001b[39mimport\u001b[39;00m \u001b[39mmediapipe\u001b[39;00m\u001b[39m.\u001b[39;00m\u001b[39mtasks\u001b[39;00m\u001b[39m.\u001b[39;00m\u001b[39mpython\u001b[39;00m\u001b[39m.\u001b[39;00m\u001b[39maudio\u001b[39;00m\u001b[39m.\u001b[39;00m\u001b[39maudio_embedder\u001b[39;00m\n\u001b[1;32m     21\u001b[0m AudioClassifier \u001b[39m=\u001b[39m audio_classifier\u001b[39m.\u001b[39mAudioClassifier\n",
      "File \u001b[0;32m~/miniforge3/envs/tf/lib/python3.8/site-packages/mediapipe/tasks/python/audio/audio_classifier.py:26\u001b[0m\n\u001b[1;32m     24\u001b[0m \u001b[39mfrom\u001b[39;00m \u001b[39mmediapipe\u001b[39;00m\u001b[39m.\u001b[39;00m\u001b[39mtasks\u001b[39;00m\u001b[39m.\u001b[39;00m\u001b[39mcc\u001b[39;00m\u001b[39m.\u001b[39;00m\u001b[39mcomponents\u001b[39;00m\u001b[39m.\u001b[39;00m\u001b[39mprocessors\u001b[39;00m\u001b[39m.\u001b[39;00m\u001b[39mproto\u001b[39;00m \u001b[39mimport\u001b[39;00m classifier_options_pb2\n\u001b[1;32m     25\u001b[0m \u001b[39mfrom\u001b[39;00m \u001b[39mmediapipe\u001b[39;00m\u001b[39m.\u001b[39;00m\u001b[39mtasks\u001b[39;00m\u001b[39m.\u001b[39;00m\u001b[39mpython\u001b[39;00m\u001b[39m.\u001b[39;00m\u001b[39maudio\u001b[39;00m\u001b[39m.\u001b[39;00m\u001b[39mcore\u001b[39;00m \u001b[39mimport\u001b[39;00m audio_task_running_mode \u001b[39mas\u001b[39;00m running_mode_module\n\u001b[0;32m---> 26\u001b[0m \u001b[39mfrom\u001b[39;00m \u001b[39mmediapipe\u001b[39;00m\u001b[39m.\u001b[39;00m\u001b[39mtasks\u001b[39;00m\u001b[39m.\u001b[39;00m\u001b[39mpython\u001b[39;00m\u001b[39m.\u001b[39;00m\u001b[39maudio\u001b[39;00m\u001b[39m.\u001b[39;00m\u001b[39mcore\u001b[39;00m \u001b[39mimport\u001b[39;00m base_audio_task_api\n\u001b[1;32m     27\u001b[0m \u001b[39mfrom\u001b[39;00m \u001b[39mmediapipe\u001b[39;00m\u001b[39m.\u001b[39;00m\u001b[39mtasks\u001b[39;00m\u001b[39m.\u001b[39;00m\u001b[39mpython\u001b[39;00m\u001b[39m.\u001b[39;00m\u001b[39mcomponents\u001b[39;00m\u001b[39m.\u001b[39;00m\u001b[39mcontainers\u001b[39;00m \u001b[39mimport\u001b[39;00m audio_data \u001b[39mas\u001b[39;00m audio_data_module\n\u001b[1;32m     28\u001b[0m \u001b[39mfrom\u001b[39;00m \u001b[39mmediapipe\u001b[39;00m\u001b[39m.\u001b[39;00m\u001b[39mtasks\u001b[39;00m\u001b[39m.\u001b[39;00m\u001b[39mpython\u001b[39;00m\u001b[39m.\u001b[39;00m\u001b[39mcomponents\u001b[39;00m\u001b[39m.\u001b[39;00m\u001b[39mcontainers\u001b[39;00m \u001b[39mimport\u001b[39;00m classification_result \u001b[39mas\u001b[39;00m classification_result_module\n",
      "File \u001b[0;32m~/miniforge3/envs/tf/lib/python3.8/site-packages/mediapipe/tasks/python/audio/core/base_audio_task_api.py:24\u001b[0m\n\u001b[1;32m     22\u001b[0m \u001b[39mfrom\u001b[39;00m \u001b[39mmediapipe\u001b[39;00m\u001b[39m.\u001b[39;00m\u001b[39mpython\u001b[39;00m\u001b[39m.\u001b[39;00m\u001b[39m_framework_bindings\u001b[39;00m \u001b[39mimport\u001b[39;00m timestamp \u001b[39mas\u001b[39;00m timestamp_module\n\u001b[1;32m     23\u001b[0m \u001b[39mfrom\u001b[39;00m \u001b[39mmediapipe\u001b[39;00m\u001b[39m.\u001b[39;00m\u001b[39mtasks\u001b[39;00m\u001b[39m.\u001b[39;00m\u001b[39mpython\u001b[39;00m\u001b[39m.\u001b[39;00m\u001b[39maudio\u001b[39;00m\u001b[39m.\u001b[39;00m\u001b[39mcore\u001b[39;00m \u001b[39mimport\u001b[39;00m audio_task_running_mode \u001b[39mas\u001b[39;00m running_mode_module\n\u001b[0;32m---> 24\u001b[0m \u001b[39mfrom\u001b[39;00m \u001b[39mmediapipe\u001b[39;00m\u001b[39m.\u001b[39;00m\u001b[39mtasks\u001b[39;00m\u001b[39m.\u001b[39;00m\u001b[39mpython\u001b[39;00m\u001b[39m.\u001b[39;00m\u001b[39mcore\u001b[39;00m\u001b[39m.\u001b[39;00m\u001b[39moptional_dependencies\u001b[39;00m \u001b[39mimport\u001b[39;00m doc_controls\n\u001b[1;32m     26\u001b[0m _TaskRunner \u001b[39m=\u001b[39m task_runner_module\u001b[39m.\u001b[39mTaskRunner\n\u001b[1;32m     27\u001b[0m _Packet \u001b[39m=\u001b[39m packet_module\u001b[39m.\u001b[39mPacket\n",
      "File \u001b[0;32m~/miniforge3/envs/tf/lib/python3.8/site-packages/mediapipe/tasks/python/core/optional_dependencies.py:20\u001b[0m\n\u001b[1;32m     16\u001b[0m \u001b[39m# TensorFlow isn't a dependency of mediapipe pip package. It's only\u001b[39;00m\n\u001b[1;32m     17\u001b[0m \u001b[39m# required in the API docgen pipeline so we'll ignore it if tensorflow is not\u001b[39;00m\n\u001b[1;32m     18\u001b[0m \u001b[39m# installed.\u001b[39;00m\n\u001b[1;32m     19\u001b[0m \u001b[39mtry\u001b[39;00m:\n\u001b[0;32m---> 20\u001b[0m   \u001b[39mfrom\u001b[39;00m \u001b[39mtensorflow\u001b[39;00m\u001b[39m.\u001b[39;00m\u001b[39mtools\u001b[39;00m\u001b[39m.\u001b[39;00m\u001b[39mdocs\u001b[39;00m \u001b[39mimport\u001b[39;00m doc_controls\n\u001b[1;32m     21\u001b[0m \u001b[39mexcept\u001b[39;00m \u001b[39mModuleNotFoundError\u001b[39;00m:\n\u001b[1;32m     22\u001b[0m   \u001b[39m# Replace the real doc_controls.do_not_generate_docs with an no-op\u001b[39;00m\n\u001b[1;32m     23\u001b[0m   doc_controls \u001b[39m=\u001b[39m \u001b[39mlambda\u001b[39;00m: \u001b[39mNone\u001b[39;00m\n",
      "File \u001b[0;32m~/miniforge3/envs/tf/lib/python3.8/site-packages/tensorflow/__init__.py:440\u001b[0m\n\u001b[1;32m    438\u001b[0m _plugin_dir \u001b[39m=\u001b[39m _os\u001b[39m.\u001b[39mpath\u001b[39m.\u001b[39mjoin(_s, \u001b[39m'\u001b[39m\u001b[39mtensorflow-plugins\u001b[39m\u001b[39m'\u001b[39m)\n\u001b[1;32m    439\u001b[0m \u001b[39mif\u001b[39;00m _os\u001b[39m.\u001b[39mpath\u001b[39m.\u001b[39mexists(_plugin_dir):\n\u001b[0;32m--> 440\u001b[0m   _ll\u001b[39m.\u001b[39;49mload_library(_plugin_dir)\n\u001b[1;32m    441\u001b[0m   \u001b[39m# Load Pluggable Device Library\u001b[39;00m\n\u001b[1;32m    442\u001b[0m   _ll\u001b[39m.\u001b[39mload_pluggable_device_library(_plugin_dir)\n",
      "File \u001b[0;32m~/miniforge3/envs/tf/lib/python3.8/site-packages/tensorflow/python/framework/load_library.py:151\u001b[0m, in \u001b[0;36mload_library\u001b[0;34m(library_location)\u001b[0m\n\u001b[1;32m    148\u001b[0m     kernel_libraries \u001b[39m=\u001b[39m [library_location]\n\u001b[1;32m    150\u001b[0m   \u001b[39mfor\u001b[39;00m lib \u001b[39min\u001b[39;00m kernel_libraries:\n\u001b[0;32m--> 151\u001b[0m     py_tf\u001b[39m.\u001b[39;49mTF_LoadLibrary(lib)\n\u001b[1;32m    153\u001b[0m \u001b[39melse\u001b[39;00m:\n\u001b[1;32m    154\u001b[0m   \u001b[39mraise\u001b[39;00m \u001b[39mOSError\u001b[39;00m(\n\u001b[1;32m    155\u001b[0m       errno\u001b[39m.\u001b[39mENOENT,\n\u001b[1;32m    156\u001b[0m       \u001b[39m'\u001b[39m\u001b[39mThe file or folder to load kernel libraries from does not exist.\u001b[39m\u001b[39m'\u001b[39m,\n\u001b[1;32m    157\u001b[0m       library_location)\n",
      "\u001b[0;31mNotFoundError\u001b[0m: dlopen(/Users/hwangjaeyeong/miniforge3/envs/tf/lib/python3.8/site-packages/tensorflow-plugins/libmetal_plugin.dylib, 0x0006): symbol not found in flat namespace '__ZN10tensorflow8internal10LogMessage16VmoduleActivatedEPKci'"
     ]
    }
   ],
   "source": [
    "import cv2\n",
    "import mediapipe as mp\n",
    "import numpy as np\n",
    "import tensorflow as tf\n"
   ]
  },
  {
   "cell_type": "code",
   "execution_count": 2,
   "metadata": {},
   "outputs": [
    {
     "name": "stdout",
     "output_type": "stream",
     "text": [
      "\u001b[34m==>\u001b[0m \u001b[1mDownloading https://formulae.brew.sh/api/formula.jws.json\u001b[0m\n",
      "######################################################################## 100.0%\n",
      "\u001b[33mWarning:\u001b[0m python@3.11 3.11.2_1 is already installed and up-to-date.\n",
      "To reinstall 3.11.2_1, run:\n",
      "  brew reinstall python@3.11\n"
     ]
    }
   ],
   "source": [
    "!brew install python@3.11"
   ]
  },
  {
   "cell_type": "code",
   "execution_count": null,
   "metadata": {},
   "outputs": [],
   "source": []
  },
  {
   "cell_type": "code",
   "execution_count": 2,
   "metadata": {},
   "outputs": [
    {
     "name": "stdout",
     "output_type": "stream",
     "text": [
      "\u001b[32m==>\u001b[0m \u001b[1mFetching \u001b[32mprotobuf\u001b[39m\u001b[0m\n",
      "\u001b[34m==>\u001b[0m \u001b[1mDownloading https://ghcr.io/v2/homebrew/core/protobuf/manifests/21.12-2\u001b[0m\n",
      "Already downloaded: /Users/hwangjaeyeong/Library/Caches/Homebrew/downloads/dc99692625dd520614284dd5dd5be130c983c7ce0e3de360c51595589b6c1a49--protobuf-21.12-2.bottle_manifest.json\n",
      "\u001b[34m==>\u001b[0m \u001b[1mDownloading https://ghcr.io/v2/homebrew/core/protobuf/blobs/sha256:09fdc2fcc\u001b[0m\n",
      "Already downloaded: /Users/hwangjaeyeong/Library/Caches/Homebrew/downloads/b7cc6c6edab103991821f556b01bb53d1e251427e20d13b3456bd02734aea989--protobuf--21.12.arm64_ventura.bottle.2.tar.gz\n",
      "\u001b[32m==>\u001b[0m \u001b[1mReinstalling \u001b[32mprotobuf\u001b[39m \u001b[0m\n",
      "\u001b[34m==>\u001b[0m \u001b[1mPouring protobuf--21.12.arm64_ventura.bottle.2.tar.gz\u001b[0m\n",
      "🍺  /opt/homebrew/Cellar/protobuf/21.12: 288 files, 19.2MB\n",
      "\u001b[34m==>\u001b[0m \u001b[1mRunning `brew cleanup protobuf`...\u001b[0m\n",
      "Disable this behaviour by setting HOMEBREW_NO_INSTALL_CLEANUP.\n",
      "Hide these hints with HOMEBREW_NO_ENV_HINTS (see `man brew`).\n"
     ]
    }
   ],
   "source": [
    "!brew reinstall protobuf"
   ]
  },
  {
   "cell_type": "code",
   "execution_count": 7,
   "metadata": {},
   "outputs": [
    {
     "name": "stdout",
     "output_type": "stream",
     "text": [
      "Requirement already satisfied: tensorflow-metal in /Users/hwangjaeyeong/miniforge3/envs/tf/lib/python3.8/site-packages (0.5.0)\n",
      "Requirement already satisfied: six~=1.15.0 in /Users/hwangjaeyeong/miniforge3/envs/tf/lib/python3.8/site-packages (from tensorflow-metal) (1.15.0)\n",
      "Requirement already satisfied: wheel~=0.35 in /Users/hwangjaeyeong/miniforge3/envs/tf/lib/python3.8/site-packages (from tensorflow-metal) (0.40.0)\n"
     ]
    }
   ],
   "source": [
    "!python -m pip install tensorflow-metal"
   ]
  },
  {
   "cell_type": "code",
   "execution_count": 6,
   "metadata": {},
   "outputs": [
    {
     "name": "stdout",
     "output_type": "stream",
     "text": [
      "Requirement already satisfied: tensorflow-macos in /Users/hwangjaeyeong/miniforge3/envs/tf/lib/python3.8/site-packages (2.11.0)\n",
      "Requirement already satisfied: absl-py>=1.0.0 in /Users/hwangjaeyeong/miniforge3/envs/tf/lib/python3.8/site-packages (from tensorflow-macos) (1.3.0)\n",
      "Requirement already satisfied: libclang>=13.0.0 in /Users/hwangjaeyeong/miniforge3/envs/tf/lib/python3.8/site-packages (from tensorflow-macos) (14.0.6)\n",
      "Requirement already satisfied: h5py>=2.9.0 in /Users/hwangjaeyeong/miniforge3/envs/tf/lib/python3.8/site-packages (from tensorflow-macos) (3.6.0)\n",
      "Requirement already satisfied: setuptools in /Users/hwangjaeyeong/miniforge3/envs/tf/lib/python3.8/site-packages (from tensorflow-macos) (67.6.0)\n",
      "Requirement already satisfied: termcolor>=1.1.0 in /Users/hwangjaeyeong/miniforge3/envs/tf/lib/python3.8/site-packages (from tensorflow-macos) (2.1.1)\n",
      "Requirement already satisfied: wrapt>=1.11.0 in /Users/hwangjaeyeong/miniforge3/envs/tf/lib/python3.8/site-packages (from tensorflow-macos) (1.14.1)\n",
      "Requirement already satisfied: keras<2.12,>=2.11.0 in /Users/hwangjaeyeong/miniforge3/envs/tf/lib/python3.8/site-packages (from tensorflow-macos) (2.11.0)\n",
      "Requirement already satisfied: flatbuffers>=2.0 in /Users/hwangjaeyeong/miniforge3/envs/tf/lib/python3.8/site-packages (from tensorflow-macos) (23.3.3)\n",
      "Requirement already satisfied: gast<=0.4.0,>=0.2.1 in /Users/hwangjaeyeong/miniforge3/envs/tf/lib/python3.8/site-packages (from tensorflow-macos) (0.4.0)\n",
      "Requirement already satisfied: astunparse>=1.6.0 in /Users/hwangjaeyeong/miniforge3/envs/tf/lib/python3.8/site-packages (from tensorflow-macos) (1.6.3)\n",
      "Requirement already satisfied: google-pasta>=0.1.1 in /Users/hwangjaeyeong/miniforge3/envs/tf/lib/python3.8/site-packages (from tensorflow-macos) (0.2.0)\n",
      "Collecting protobuf<3.20,>=3.9.2\n",
      "  Using cached protobuf-3.19.6-py2.py3-none-any.whl (162 kB)\n",
      "Requirement already satisfied: six>=1.12.0 in /Users/hwangjaeyeong/miniforge3/envs/tf/lib/python3.8/site-packages (from tensorflow-macos) (1.15.0)\n",
      "Requirement already satisfied: tensorflow-estimator<2.12,>=2.11.0 in /Users/hwangjaeyeong/miniforge3/envs/tf/lib/python3.8/site-packages (from tensorflow-macos) (2.11.0)\n",
      "Requirement already satisfied: numpy>=1.20 in /Users/hwangjaeyeong/miniforge3/envs/tf/lib/python3.8/site-packages (from tensorflow-macos) (1.23.2)\n",
      "Requirement already satisfied: grpcio<2.0,>=1.24.3 in /Users/hwangjaeyeong/miniforge3/envs/tf/lib/python3.8/site-packages (from tensorflow-macos) (1.46.3)\n",
      "Requirement already satisfied: tensorboard<2.12,>=2.11 in /Users/hwangjaeyeong/miniforge3/envs/tf/lib/python3.8/site-packages (from tensorflow-macos) (2.11.2)\n",
      "Requirement already satisfied: typing-extensions>=3.6.6 in /Users/hwangjaeyeong/miniforge3/envs/tf/lib/python3.8/site-packages (from tensorflow-macos) (4.5.0)\n",
      "Requirement already satisfied: opt-einsum>=2.3.2 in /Users/hwangjaeyeong/miniforge3/envs/tf/lib/python3.8/site-packages (from tensorflow-macos) (3.3.0)\n",
      "Requirement already satisfied: packaging in /Users/hwangjaeyeong/miniforge3/envs/tf/lib/python3.8/site-packages (from tensorflow-macos) (23.0)\n",
      "Requirement already satisfied: wheel<1.0,>=0.23.0 in /Users/hwangjaeyeong/miniforge3/envs/tf/lib/python3.8/site-packages (from astunparse>=1.6.0->tensorflow-macos) (0.40.0)\n",
      "Requirement already satisfied: markdown>=2.6.8 in /Users/hwangjaeyeong/miniforge3/envs/tf/lib/python3.8/site-packages (from tensorboard<2.12,>=2.11->tensorflow-macos) (3.4.1)\n",
      "Requirement already satisfied: google-auth-oauthlib<0.5,>=0.4.1 in /Users/hwangjaeyeong/miniforge3/envs/tf/lib/python3.8/site-packages (from tensorboard<2.12,>=2.11->tensorflow-macos) (0.4.6)\n",
      "Requirement already satisfied: werkzeug>=1.0.1 in /Users/hwangjaeyeong/miniforge3/envs/tf/lib/python3.8/site-packages (from tensorboard<2.12,>=2.11->tensorflow-macos) (2.2.2)\n",
      "Requirement already satisfied: requests<3,>=2.21.0 in /Users/hwangjaeyeong/miniforge3/envs/tf/lib/python3.8/site-packages (from tensorboard<2.12,>=2.11->tensorflow-macos) (2.28.2)\n",
      "Requirement already satisfied: google-auth<3,>=1.6.3 in /Users/hwangjaeyeong/miniforge3/envs/tf/lib/python3.8/site-packages (from tensorboard<2.12,>=2.11->tensorflow-macos) (2.15.0)\n",
      "Requirement already satisfied: tensorboard-data-server<0.7.0,>=0.6.0 in /Users/hwangjaeyeong/miniforge3/envs/tf/lib/python3.8/site-packages (from tensorboard<2.12,>=2.11->tensorflow-macos) (0.6.1)\n",
      "Requirement already satisfied: tensorboard-plugin-wit>=1.6.0 in /Users/hwangjaeyeong/miniforge3/envs/tf/lib/python3.8/site-packages (from tensorboard<2.12,>=2.11->tensorflow-macos) (1.8.1)\n",
      "Requirement already satisfied: rsa<5,>=3.1.4 in /Users/hwangjaeyeong/miniforge3/envs/tf/lib/python3.8/site-packages (from google-auth<3,>=1.6.3->tensorboard<2.12,>=2.11->tensorflow-macos) (4.9)\n",
      "Requirement already satisfied: cachetools<6.0,>=2.0.0 in /Users/hwangjaeyeong/miniforge3/envs/tf/lib/python3.8/site-packages (from google-auth<3,>=1.6.3->tensorboard<2.12,>=2.11->tensorflow-macos) (5.2.0)\n",
      "Requirement already satisfied: pyasn1-modules>=0.2.1 in /Users/hwangjaeyeong/miniforge3/envs/tf/lib/python3.8/site-packages (from google-auth<3,>=1.6.3->tensorboard<2.12,>=2.11->tensorflow-macos) (0.2.8)\n",
      "Requirement already satisfied: requests-oauthlib>=0.7.0 in /Users/hwangjaeyeong/miniforge3/envs/tf/lib/python3.8/site-packages (from google-auth-oauthlib<0.5,>=0.4.1->tensorboard<2.12,>=2.11->tensorflow-macos) (1.3.1)\n",
      "Requirement already satisfied: importlib-metadata>=4.4 in /Users/hwangjaeyeong/miniforge3/envs/tf/lib/python3.8/site-packages (from markdown>=2.6.8->tensorboard<2.12,>=2.11->tensorflow-macos) (6.1.0)\n",
      "Requirement already satisfied: certifi>=2017.4.17 in /Users/hwangjaeyeong/miniforge3/envs/tf/lib/python3.8/site-packages (from requests<3,>=2.21.0->tensorboard<2.12,>=2.11->tensorflow-macos) (2022.12.7)\n",
      "Requirement already satisfied: idna<4,>=2.5 in /Users/hwangjaeyeong/miniforge3/envs/tf/lib/python3.8/site-packages (from requests<3,>=2.21.0->tensorboard<2.12,>=2.11->tensorflow-macos) (2.10)\n",
      "Requirement already satisfied: charset-normalizer<4,>=2 in /Users/hwangjaeyeong/miniforge3/envs/tf/lib/python3.8/site-packages (from requests<3,>=2.21.0->tensorboard<2.12,>=2.11->tensorflow-macos) (2.1.1)\n",
      "Requirement already satisfied: urllib3<1.27,>=1.21.1 in /Users/hwangjaeyeong/miniforge3/envs/tf/lib/python3.8/site-packages (from requests<3,>=2.21.0->tensorboard<2.12,>=2.11->tensorflow-macos) (1.26.15)\n",
      "Requirement already satisfied: MarkupSafe>=2.1.1 in /Users/hwangjaeyeong/miniforge3/envs/tf/lib/python3.8/site-packages (from werkzeug>=1.0.1->tensorboard<2.12,>=2.11->tensorflow-macos) (2.1.2)\n",
      "Requirement already satisfied: zipp>=0.5 in /Users/hwangjaeyeong/miniforge3/envs/tf/lib/python3.8/site-packages (from importlib-metadata>=4.4->markdown>=2.6.8->tensorboard<2.12,>=2.11->tensorflow-macos) (3.15.0)\n",
      "Requirement already satisfied: pyasn1<0.5.0,>=0.4.6 in /Users/hwangjaeyeong/miniforge3/envs/tf/lib/python3.8/site-packages (from pyasn1-modules>=0.2.1->google-auth<3,>=1.6.3->tensorboard<2.12,>=2.11->tensorflow-macos) (0.4.8)\n",
      "Requirement already satisfied: oauthlib>=3.0.0 in /Users/hwangjaeyeong/miniforge3/envs/tf/lib/python3.8/site-packages (from requests-oauthlib>=0.7.0->google-auth-oauthlib<0.5,>=0.4.1->tensorboard<2.12,>=2.11->tensorflow-macos) (3.2.2)\n",
      "Installing collected packages: protobuf\n",
      "  Attempting uninstall: protobuf\n",
      "    Found existing installation: protobuf 3.20.0\n",
      "    Uninstalling protobuf-3.20.0:\n",
      "      Successfully uninstalled protobuf-3.20.0\n",
      "\u001b[31mERROR: pip's dependency resolver does not currently take into account all the packages that are installed. This behaviour is the source of the following dependency conflicts.\n",
      "onnx 1.13.1 requires protobuf<4,>=3.20.2, but you have protobuf 3.19.6 which is incompatible.\u001b[0m\u001b[31m\n",
      "\u001b[0mSuccessfully installed protobuf-3.19.6\n"
     ]
    }
   ],
   "source": [
    "!python -m pip install tensorflow-macos"
   ]
  },
  {
   "cell_type": "code",
   "execution_count": 1,
   "metadata": {},
   "outputs": [
    {
     "ename": "NameError",
     "evalue": "name 'tf' is not defined",
     "output_type": "error",
     "traceback": [
      "\u001b[0;31m---------------------------------------------------------------------------\u001b[0m",
      "\u001b[0;31mNameError\u001b[0m                                 Traceback (most recent call last)",
      "Cell \u001b[0;32mIn[1], line 2\u001b[0m\n\u001b[1;32m      1\u001b[0m \u001b[39m# Load TFLite model\u001b[39;00m\n\u001b[0;32m----> 2\u001b[0m interpreter \u001b[39m=\u001b[39m tf\u001b[39m.\u001b[39mlite\u001b[39m.\u001b[39mInterpreter(model_path\u001b[39m=\u001b[39m\u001b[39m\"\u001b[39m\u001b[39m/Volumes/T7/Project_Database/2023_Google_Solution_Challenge/DL-GoldenHour/wound_detection/wound_detection_model/best_metadata.tflite\u001b[39m\u001b[39m\"\u001b[39m)\n\u001b[1;32m      3\u001b[0m interpreter\u001b[39m.\u001b[39mallocate_tensors()\n\u001b[1;32m      4\u001b[0m input_details \u001b[39m=\u001b[39m interpreter\u001b[39m.\u001b[39mget_input_details()\n",
      "\u001b[0;31mNameError\u001b[0m: name 'tf' is not defined"
     ]
    }
   ],
   "source": [
    "\n",
    "# Load TFLite model\n",
    "interpreter = tf.lite.Interpreter(model_path=\"/Volumes/T7/Project_Database/2023_Google_Solution_Challenge/DL-GoldenHour/wound_detection/wound_detection_model/best_metadata.tflite\")\n",
    "interpreter.allocate_tensors()\n",
    "input_details = interpreter.get_input_details()\n",
    "output_details = interpreter.get_output_details()\n",
    "\n",
    "# Load MediaPipe Pose model\n",
    "mp_pose = mp.solutions.pose\n",
    "pose = mp_pose.Pose()\n",
    "\n",
    "# Define function to find nearest landmark to a point\n",
    "def find_nearest_landmark(point, landmarks):\n",
    "    distances = np.linalg.norm(landmarks - point, axis=1)\n",
    "    nearest_idx = np.argmin(distances)\n",
    "    return landmarks[nearest_idx]\n",
    "\n",
    "# Open webcam\n",
    "cap = cv2.VideoCapture(0)\n",
    "\n",
    "while True:\n",
    "    # Read frame from webcam\n",
    "    ret, frame = cap.read()\n",
    "\n",
    "    # Run MediaPipe Pose model to get landmarks\n",
    "    image = cv2.cvtColor(frame, cv2.COLOR_BGR2RGB)\n",
    "    results = pose.process(image)\n",
    "    landmarks = np.array([[landmark.x, landmark.y] for landmark in results.pose_landmarks.landmark])\n",
    "\n",
    "    # Run TFLite model to predict wound location and name\n",
    "    input_data = np.expand_dims(frame, axis=0)\n",
    "    interpreter.set_tensor(input_details[0]['index'], input_data)\n",
    "    interpreter.invoke()\n",
    "    output_data = interpreter.get_tensor(output_details[0]['index'])\n",
    "    wound_location = output_data[0][:2]\n",
    "    wound_name = output_data[0][2]\n",
    "\n",
    "    # Draw red bounding box around wound location\n",
    "    x, y = map(int, wound_location)\n",
    "    cv2.rectangle(frame, (x-20, y-20), (x+20, y+20), (0, 0, 255), 2)\n",
    "\n",
    "    # Find 2 landmarks near wound location\n",
    "    nearest_landmarks = np.array([\n",
    "        find_nearest_landmark(wound_location, landmarks),\n",
    "        find_nearest_landmark(wound_location + np.array([0, -50]), landmarks)\n",
    "    ])\n",
    "\n",
    "    # If wound is a bite wound, find nearest landmark near shoulder or hip\n",
    "    if wound_name == 'wound_ulcer':\n",
    "        candidate_landmarks = np.array([\n",
    "            find_nearest_landmark(landmarks[mp_pose.PoseLandmark.LEFT_SHOULDER.value], landmarks),\n",
    "            find_nearest_landmark(landmarks[mp_pose.PoseLandmark.RIGHT_SHOULDER.value], landmarks),\n",
    "            find_nearest_landmark(landmarks[mp_pose.PoseLandmark.LEFT_HIP.value], landmarks),\n",
    "            find_nearest_landmark(landmarks[mp_pose.PoseLandmark.RIGHT_HIP.value], landmarks)\n",
    "        ])\n",
    "        nearest_landmarks[1] = find_nearest_landmark(nearest_landmarks[0], candidate_landmarks)\n",
    "\n",
    "    # Calculate midpoint between wound location and nearest landmark\n",
    "    midpoint = np.mean(nearest_landmarks, axis=0)\n",
    "\n",
    "    # Draw red circle at midpoint\n",
    "    cv2.circle(frame, tuple(map(int, midpoint)), 10, (0, 0, 255), -1)\n",
    "\n",
    "    # Show frame\n",
    "    cv2.imshow('Frame', frame)\n",
    "\n",
    "    # Exit if 'q' key is pressed\n",
    "    if cv2.waitKey(1) & 0xFF == ord('q'):\n",
    "        break\n",
    "\n",
    "# Release resources\n",
    "cap.release()\n",
    "cv2.destroyAllWindows()\n"
   ]
  },
  {
   "cell_type": "code",
   "execution_count": null,
   "metadata": {},
   "outputs": [],
   "source": []
  }
 ],
 "metadata": {
  "kernelspec": {
   "display_name": "tf",
   "language": "python",
   "name": "python3"
  },
  "language_info": {
   "codemirror_mode": {
    "name": "ipython",
    "version": 3
   },
   "file_extension": ".py",
   "mimetype": "text/x-python",
   "name": "python",
   "nbconvert_exporter": "python",
   "pygments_lexer": "ipython3",
   "version": "3.8.6"
  },
  "orig_nbformat": 4
 },
 "nbformat": 4,
 "nbformat_minor": 2
}
