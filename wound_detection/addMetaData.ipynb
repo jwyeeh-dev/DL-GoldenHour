{
 "cells": [
  {
   "cell_type": "markdown",
   "metadata": {},
   "source": [
    "# TFlite 모델에 메타데이터 추가하기"
   ]
  },
  {
   "cell_type": "code",
   "execution_count": 1,
   "metadata": {},
   "outputs": [
    {
     "name": "stdout",
     "output_type": "stream",
     "text": [
      "Requirement already satisfied: tflite-support in /Users/hwangjaeyeong/miniforge3/envs/tf/lib/python3.8/site-packages (0.1.0a1)\n",
      "Requirement already satisfied: pybind11>=2.4 in /Users/hwangjaeyeong/miniforge3/envs/tf/lib/python3.8/site-packages (from tflite-support) (2.10.4)\n",
      "Requirement already satisfied: numpy in /Users/hwangjaeyeong/miniforge3/envs/tf/lib/python3.8/site-packages (from tflite-support) (1.23.2)\n",
      "Requirement already satisfied: absl-py>=0.7.0 in /Users/hwangjaeyeong/miniforge3/envs/tf/lib/python3.8/site-packages (from tflite-support) (1.3.0)\n"
     ]
    }
   ],
   "source": [
    "# 메타 데이터 도구 패키기 설치\n",
    "!pip install tflite-support"
   ]
  },
  {
   "cell_type": "code",
   "execution_count": null,
   "metadata": {},
   "outputs": [],
   "source": [
    "from tflite_support.metadata_writers import object_detector\n",
    "from tflite_support.metadata_writers import writer_utils"
   ]
  },
  {
   "cell_type": "code",
   "execution_count": null,
   "metadata": {},
   "outputs": [],
   "source": [
    "!curl -L https://github.com/tensorflow/tflite-support/raw/master/tensorflow_lite_support/metadata/python/tests/testdata/object_detector/ssd_mobilenet_v1.tflite -o ssd_mobilenet_v1.tflite\n",
    "!curl -L https://github.com/tensorflow/tflite-support/raw/master/tensorflow_lite_support/metadata/python/tests/testdata/object_detector/labelmap.txt -o ssd_mobilenet_labels.txt"
   ]
  },
  {
   "cell_type": "code",
   "execution_count": null,
   "metadata": {},
   "outputs": [],
   "source": []
  }
 ],
 "metadata": {
  "kernelspec": {
   "display_name": "Python 3",
   "language": "python",
   "name": "python3"
  },
  "language_info": {
   "codemirror_mode": {
    "name": "ipython",
    "version": 3
   },
   "file_extension": ".py",
   "mimetype": "text/x-python",
   "name": "python",
   "nbconvert_exporter": "python",
   "pygments_lexer": "ipython3",
   "version": "3.8.6"
  },
  "orig_nbformat": 2
 },
 "nbformat": 4,
 "nbformat_minor": 2
}
