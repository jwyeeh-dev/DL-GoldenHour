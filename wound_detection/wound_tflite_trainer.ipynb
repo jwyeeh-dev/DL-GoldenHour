{
 "cells": [
  {
   "cell_type": "code",
   "execution_count": 8,
   "metadata": {},
   "outputs": [
    {
     "name": "stdout",
     "output_type": "stream",
     "text": [
      "\u001b[31mERROR: Could not find a version that satisfies the requirement python (from versions: none)\u001b[0m\u001b[31m\n",
      "\u001b[0m\u001b[31mERROR: No matching distribution found for python\u001b[0m\u001b[31m\n",
      "\u001b[0m"
     ]
    }
   ],
   "source": [
    "!pip install python"
   ]
  },
  {
   "cell_type": "code",
   "execution_count": 4,
   "metadata": {},
   "outputs": [
    {
     "name": "stdout",
     "output_type": "stream",
     "text": [
      "Collecting package metadata (current_repodata.json): done\n",
      "Solving environment: done\n",
      "\n",
      "\n",
      "==> WARNING: A newer version of conda exists. <==\n",
      "  current version: 22.11.1\n",
      "  latest version: 23.1.0\n",
      "\n",
      "Please update conda by running\n",
      "\n",
      "    $ conda update -n base -c conda-forge conda\n",
      "\n",
      "Or to minimize the number of packages updated during conda update use\n",
      "\n",
      "     conda install conda=23.1.0\n",
      "\n",
      "\n",
      "\n",
      "## Package Plan ##\n",
      "\n",
      "  environment location: /Users/hwangjaeyeong/miniforge3/envs/tf\n",
      "\n",
      "\n",
      "The following packages will be downloaded:\n",
      "\n",
      "    package                    |            build\n",
      "    ---------------------------|-----------------\n",
      "    attrs-22.2.0               |     pyh71513ae_0          53 KB  conda-forge\n",
      "    babel-2.12.1               |     pyhd8ed1ab_1         6.6 MB  conda-forge\n",
      "    beautifulsoup4-4.12.0      |     pyha770c72_0         103 KB  conda-forge\n",
      "    bleach-6.0.0               |     pyhd8ed1ab_0         128 KB  conda-forge\n",
      "    comm-0.1.3                 |     pyhd8ed1ab_0          11 KB  conda-forge\n",
      "    debugpy-1.6.6              |   py38h2b1e499_0         1.8 MB  conda-forge\n",
      "    importlib-metadata-6.1.0   |     pyha770c72_0          24 KB  conda-forge\n",
      "    importlib_metadata-6.1.0   |       hd8ed1ab_0           9 KB  conda-forge\n",
      "    importlib_resources-5.12.0 |     pyhd8ed1ab_0          30 KB  conda-forge\n",
      "    ipykernel-6.22.0           |     pyh736e0ef_0         110 KB  conda-forge\n",
      "    ipython-8.11.0             |     pyhd1c38e8_0         568 KB  conda-forge\n",
      "    ipywidgets-8.0.5           |     pyhd8ed1ab_0         109 KB  conda-forge\n",
      "    jupyter_client-8.1.0       |     pyhd8ed1ab_0         102 KB  conda-forge\n",
      "    jupyter_console-6.6.3      |     pyhd8ed1ab_0          26 KB  conda-forge\n",
      "    jupyter_core-5.3.0         |   py38h10201cd_0          89 KB  conda-forge\n",
      "    jupyter_events-0.6.3       |     pyhd8ed1ab_0          75 KB  conda-forge\n",
      "    jupyter_server-2.5.0       |     pyhd8ed1ab_0         302 KB  conda-forge\n",
      "    jupyter_server_terminals-0.4.4|     pyhd8ed1ab_1          19 KB  conda-forge\n",
      "    jupyterlab_server-2.21.0   |     pyhd8ed1ab_0          58 KB  conda-forge\n",
      "    jupyterlab_widgets-3.0.6   |     pyhd8ed1ab_0         169 KB  conda-forge\n",
      "    libcxx-15.0.7              |       h75e25f2_0         1.0 MB  conda-forge\n",
      "    libgfortran-5.0.0          |12_2_0_hd922786_31         157 KB  conda-forge\n",
      "    libgfortran5-12.2.0        |      h0eea778_31         1.0 MB  conda-forge\n",
      "    llvm-openmp-16.0.0         |       h7cfbb63_0         264 KB  conda-forge\n",
      "    markupsafe-2.1.2           |   py38hb991d35_0          22 KB  conda-forge\n",
      "    mistune-2.0.5              |     pyhd8ed1ab_0          73 KB  conda-forge\n",
      "    nbclassic-0.5.3            |     pyhb4ecaf3_3         5.5 MB  conda-forge\n",
      "    nbconvert-7.2.9            |     pyhd8ed1ab_0           8 KB  conda-forge\n",
      "    nbconvert-core-7.2.9       |     pyhd8ed1ab_0         195 KB  conda-forge\n",
      "    nbconvert-pandoc-7.2.9     |     pyhd8ed1ab_0           6 KB  conda-forge\n",
      "    nbformat-5.8.0             |     pyhd8ed1ab_0          98 KB  conda-forge\n",
      "    notebook-6.5.3             |     pyha770c72_0         300 KB  conda-forge\n",
      "    openssl-1.1.1t             |       h03a7124_0         1.5 MB  conda-forge\n",
      "    packaging-23.0             |     pyhd8ed1ab_0          40 KB  conda-forge\n",
      "    pandoc-2.19.2              |       hce30654_2        13.9 MB  conda-forge\n",
      "    pip-23.0.1                 |     pyhd8ed1ab_0         1.3 MB  conda-forge\n",
      "    platformdirs-3.1.1         |     pyhd8ed1ab_0          17 KB  conda-forge\n",
      "    prometheus_client-0.16.0   |     pyhd8ed1ab_0          51 KB  conda-forge\n",
      "    prompt-toolkit-3.0.38      |     pyha770c72_0         263 KB  conda-forge\n",
      "    prompt_toolkit-3.0.38      |       hd8ed1ab_0           6 KB  conda-forge\n",
      "    pygments-2.14.0            |     pyhd8ed1ab_0         805 KB  conda-forge\n",
      "    pyopenssl-23.0.0           |     pyhd8ed1ab_0         124 KB  conda-forge\n",
      "    pyrsistent-0.19.3          |   py38hb991d35_0          91 KB  conda-forge\n",
      "    python-fastjsonschema-2.16.3|     pyhd8ed1ab_0         220 KB  conda-forge\n",
      "    python-json-logger-2.0.7   |     pyhd8ed1ab_0          13 KB  conda-forge\n",
      "    pyzmq-25.0.2               |   py38hb72be9f_0         413 KB  conda-forge\n",
      "    readline-8.2               |       h92ec313_1         244 KB  conda-forge\n",
      "    requests-2.28.2            |     pyhd8ed1ab_0          55 KB  conda-forge\n",
      "    rfc3339-validator-0.1.4    |     pyhd8ed1ab_0           8 KB  conda-forge\n",
      "    rfc3986-validator-0.1.1    |     pyh9f0ad1d_0           8 KB  conda-forge\n",
      "    setuptools-67.6.0          |     pyhd8ed1ab_0         566 KB  conda-forge\n",
      "    traitlets-5.9.0            |     pyhd8ed1ab_0          96 KB  conda-forge\n",
      "    typing-extensions-4.5.0    |       hd8ed1ab_0           9 KB  conda-forge\n",
      "    typing_extensions-4.5.0    |     pyha770c72_0          31 KB  conda-forge\n",
      "    urllib3-1.26.15            |     pyhd8ed1ab_0         110 KB  conda-forge\n",
      "    wcwidth-0.2.6              |     pyhd8ed1ab_0          28 KB  conda-forge\n",
      "    websocket-client-1.5.1     |     pyhd8ed1ab_0          43 KB  conda-forge\n",
      "    wheel-0.40.0               |     pyhd8ed1ab_0          54 KB  conda-forge\n",
      "    widgetsnbextension-4.0.6   |     pyhd8ed1ab_0         827 KB  conda-forge\n",
      "    zipp-3.15.0                |     pyhd8ed1ab_0          17 KB  conda-forge\n",
      "    ------------------------------------------------------------\n",
      "                                           Total:        39.7 MB\n",
      "\n",
      "The following NEW packages will be INSTALLED:\n",
      "\n",
      "  importlib_metadata conda-forge/noarch::importlib_metadata-6.1.0-hd8ed1ab_0 \n",
      "  rfc3339-validator  conda-forge/noarch::rfc3339-validator-0.1.4-pyhd8ed1ab_0 \n",
      "  rfc3986-validator  conda-forge/noarch::rfc3986-validator-0.1.1-pyh9f0ad1d_0 \n",
      "  typing-extensions  conda-forge/noarch::typing-extensions-4.5.0-hd8ed1ab_0 \n",
      "\n",
      "The following packages will be REMOVED:\n",
      "\n",
      "  _ipython_minor_entry_point-8.7.0-h3b92ee0_0\n",
      "  bzip2-1.0.8-h3422bc3_4\n",
      "\n",
      "The following packages will be UPDATED:\n",
      "\n",
      "  attrs                                 22.1.0-pyh71513ae_1 --> 22.2.0-pyh71513ae_0 \n",
      "  babel                                 2.11.0-pyhd8ed1ab_0 --> 2.12.1-pyhd8ed1ab_1 \n",
      "  beautifulsoup4                        4.11.1-pyha770c72_0 --> 4.12.0-pyha770c72_0 \n",
      "  bleach                                 5.0.1-pyhd8ed1ab_0 --> 6.0.0-pyhd8ed1ab_0 \n",
      "  comm                                   0.1.2-pyhd8ed1ab_0 --> 0.1.3-pyhd8ed1ab_0 \n",
      "  debugpy                              1.6.4-py38h2b1e499_0 --> 1.6.6-py38h2b1e499_0 \n",
      "  importlib-metadata                     5.1.0-pyha770c72_0 --> 6.1.0-pyha770c72_0 \n",
      "  importlib_resourc~                    5.10.1-pyhd8ed1ab_0 --> 5.12.0-pyhd8ed1ab_0 \n",
      "  ipykernel                             6.19.2-pyh736e0ef_0 --> 6.22.0-pyh736e0ef_0 \n",
      "  ipython                                8.7.0-pyhd1c38e8_0 --> 8.11.0-pyhd1c38e8_0 \n",
      "  ipywidgets                             8.0.3-pyhd8ed1ab_0 --> 8.0.5-pyhd8ed1ab_0 \n",
      "  jupyter_client                         7.4.8-pyhd8ed1ab_0 --> 8.1.0-pyhd8ed1ab_0 \n",
      "  jupyter_console                        6.4.4-pyhd8ed1ab_0 --> 6.6.3-pyhd8ed1ab_0 \n",
      "  jupyter_core                         5.1.0-py38h10201cd_0 --> 5.3.0-py38h10201cd_0 \n",
      "  jupyter_events                         0.5.0-pyhd8ed1ab_0 --> 0.6.3-pyhd8ed1ab_0 \n",
      "  jupyter_server                         2.0.1-pyhd8ed1ab_0 --> 2.5.0-pyhd8ed1ab_0 \n",
      "  jupyter_server_te~                     0.4.2-pyhd8ed1ab_0 --> 0.4.4-pyhd8ed1ab_1 \n",
      "  jupyterlab_server                     2.16.5-pyhd8ed1ab_0 --> 2.21.0-pyhd8ed1ab_0 \n",
      "  jupyterlab_widgets                     3.0.4-pyhd8ed1ab_0 --> 3.0.6-pyhd8ed1ab_0 \n",
      "  libcxx                                  14.0.6-h2692d47_0 --> 15.0.7-h75e25f2_0 \n",
      "  libgfortran                      5.0.0-11_3_0_hd922786_26 --> 5.0.0-12_2_0_hd922786_31 \n",
      "  libgfortran5                           11.3.0-hdaf2cc0_26 --> 12.2.0-h0eea778_31 \n",
      "  llvm-openmp                             15.0.6-h7cfbb63_0 --> 16.0.0-h7cfbb63_0 \n",
      "  markupsafe                           2.1.1-py38hb991d35_2 --> 2.1.2-py38hb991d35_0 \n",
      "  mistune                                2.0.4-pyhd8ed1ab_0 --> 2.0.5-pyhd8ed1ab_0 \n",
      "  nbclassic                              0.4.8-pyhd8ed1ab_0 --> 0.5.3-pyhb4ecaf3_3 \n",
      "  nbconvert                              7.2.6-pyhd8ed1ab_0 --> 7.2.9-pyhd8ed1ab_0 \n",
      "  nbconvert-core                         7.2.6-pyhd8ed1ab_0 --> 7.2.9-pyhd8ed1ab_0 \n",
      "  nbconvert-pandoc                       7.2.6-pyhd8ed1ab_0 --> 7.2.9-pyhd8ed1ab_0 \n",
      "  nbformat                               5.7.0-pyhd8ed1ab_0 --> 5.8.0-pyhd8ed1ab_0 \n",
      "  notebook                               6.5.2-pyha770c72_1 --> 6.5.3-pyha770c72_0 \n",
      "  openssl                                 1.1.1s-h03a7124_1 --> 1.1.1t-h03a7124_0 \n",
      "  packaging                               22.0-pyhd8ed1ab_0 --> 23.0-pyhd8ed1ab_0 \n",
      "  pandoc                                  2.19.2-hce30654_1 --> 2.19.2-hce30654_2 \n",
      "  pip                                   22.3.1-pyhd8ed1ab_0 --> 23.0.1-pyhd8ed1ab_0 \n",
      "  platformdirs                           2.6.0-pyhd8ed1ab_0 --> 3.1.1-pyhd8ed1ab_0 \n",
      "  prometheus_client                     0.15.0-pyhd8ed1ab_0 --> 0.16.0-pyhd8ed1ab_0 \n",
      "  prompt-toolkit                        3.0.36-pyha770c72_0 --> 3.0.38-pyha770c72_0 \n",
      "  prompt_toolkit                          3.0.36-hd8ed1ab_0 --> 3.0.38-hd8ed1ab_0 \n",
      "  pygments                              2.13.0-pyhd8ed1ab_0 --> 2.14.0-pyhd8ed1ab_0 \n",
      "  pyopenssl                             22.1.0-pyhd8ed1ab_0 --> 23.0.0-pyhd8ed1ab_0 \n",
      "  pyrsistent                          0.19.2-py38hb991d35_0 --> 0.19.3-py38hb991d35_0 \n",
      "  python-fastjsonsc~                    2.16.2-pyhd8ed1ab_0 --> 2.16.3-pyhd8ed1ab_0 \n",
      "  python-json-logger                     2.0.1-pyh9f0ad1d_0 --> 2.0.7-pyhd8ed1ab_0 \n",
      "  pytz                                  2022.6-pyhd8ed1ab_0 --> 2022.7.1-pyhd8ed1ab_0 \n",
      "  pyzmq                               24.0.1-py38hb72be9f_1 --> 25.0.2-py38hb72be9f_0 \n",
      "  readline                                 8.1.2-h46ed386_0 --> 8.2-h92ec313_1 \n",
      "  requests                              2.28.1-pyhd8ed1ab_1 --> 2.28.2-pyhd8ed1ab_0 \n",
      "  setuptools                            65.5.1-pyhd8ed1ab_0 --> 67.6.0-pyhd8ed1ab_0 \n",
      "  traitlets                              5.7.0-pyhd8ed1ab_0 --> 5.9.0-pyhd8ed1ab_0 \n",
      "  typing_extensions                      4.4.0-pyha770c72_0 --> 4.5.0-pyha770c72_0 \n",
      "  urllib3                              1.26.13-pyhd8ed1ab_0 --> 1.26.15-pyhd8ed1ab_0 \n",
      "  wcwidth                                0.2.5-pyh9f0ad1d_2 --> 0.2.6-pyhd8ed1ab_0 \n",
      "  websocket-client                       1.4.2-pyhd8ed1ab_0 --> 1.5.1-pyhd8ed1ab_0 \n",
      "  wheel                                 0.38.4-pyhd8ed1ab_0 --> 0.40.0-pyhd8ed1ab_0 \n",
      "  widgetsnbextension                     4.0.4-pyhd8ed1ab_0 --> 4.0.6-pyhd8ed1ab_0 \n",
      "  zipp                                  3.11.0-pyhd8ed1ab_0 --> 3.15.0-pyhd8ed1ab_0 \n",
      "\n",
      "\n",
      "Proceed ([y]/n)? ^C\n",
      "\n",
      "CondaSystemExit: \n",
      "Operation aborted.  Exiting.\n",
      "\n"
     ]
    }
   ],
   "source": [
    "!conda update --all"
   ]
  },
  {
   "cell_type": "code",
   "execution_count": 8,
   "metadata": {},
   "outputs": [
    {
     "name": "stdout",
     "output_type": "stream",
     "text": [
      "Found existing installation: tflite-support 0.1.0a1\n",
      "Uninstalling tflite-support-0.1.0a1:\n",
      "  Would remove:\n",
      "    /Users/hwangjaeyeong/miniforge3/envs/tf/bin/tflite_codegen\n",
      "    /Users/hwangjaeyeong/miniforge3/envs/tf/lib/python3.8/site-packages/tflite_support-0.1.0a1.dist-info/*\n",
      "    /Users/hwangjaeyeong/miniforge3/envs/tf/lib/python3.8/site-packages/tflite_support/*\n",
      "Proceed (Y/n)? ^C\n",
      "\u001b[31mERROR: Operation cancelled by user\u001b[0m\u001b[31m\n",
      "\u001b[0m\u001b[31mERROR: Could not find a version that satisfies the requirement tflite-support-nightly (from versions: none)\u001b[0m\u001b[31m\n",
      "\u001b[0m\u001b[31mERROR: No matching distribution found for tflite-support-nightly\u001b[0m\u001b[31m\n",
      "\u001b[0m"
     ]
    }
   ],
   "source": [
    "!pip uninstall tflite-support\n",
    "!pip install tflite-support-nightly\n"
   ]
  },
  {
   "cell_type": "code",
   "execution_count": 6,
   "metadata": {},
   "outputs": [
    {
     "name": "stdout",
     "output_type": "stream",
     "text": [
      "\u001b[31mERROR: Could not find a version that satisfies the requirement tensorflow (from versions: none)\u001b[0m\u001b[31m\n",
      "\u001b[0m\u001b[31mERROR: No matching distribution found for tensorflow\u001b[0m\u001b[31m\n",
      "\u001b[0m"
     ]
    }
   ],
   "source": [
    "!pip install tensorflow"
   ]
  },
  {
   "cell_type": "code",
   "execution_count": 9,
   "metadata": {},
   "outputs": [
    {
     "ename": "ModuleNotFoundError",
     "evalue": "No module named 'tflite_support.metadata_writers'",
     "output_type": "error",
     "traceback": [
      "\u001b[0;31m---------------------------------------------------------------------------\u001b[0m",
      "\u001b[0;31mModuleNotFoundError\u001b[0m                       Traceback (most recent call last)",
      "Cell \u001b[0;32mIn[9], line 1\u001b[0m\n\u001b[0;32m----> 1\u001b[0m \u001b[39mfrom\u001b[39;00m \u001b[39mtflite_support\u001b[39;00m\u001b[39m.\u001b[39;00m\u001b[39mmetadata_writers\u001b[39;00m \u001b[39mimport\u001b[39;00m object_detector\n\u001b[1;32m      2\u001b[0m \u001b[39mfrom\u001b[39;00m \u001b[39mtflite_support\u001b[39;00m\u001b[39m.\u001b[39;00m\u001b[39mmetadata_writers\u001b[39;00m \u001b[39mimport\u001b[39;00m writer_utils\n",
      "\u001b[0;31mModuleNotFoundError\u001b[0m: No module named 'tflite_support.metadata_writers'"
     ]
    }
   ],
   "source": [
    "from tflite_support.metadata_writers import object_detector\n",
    "from tflite_support.metadata_writers import writer_utils"
   ]
  },
  {
   "cell_type": "code",
   "execution_count": null,
   "metadata": {},
   "outputs": [],
   "source": []
  },
  {
   "cell_type": "code",
   "execution_count": null,
   "metadata": {},
   "outputs": [],
   "source": []
  }
 ],
 "metadata": {
  "kernelspec": {
   "display_name": "tf",
   "language": "python",
   "name": "python3"
  },
  "language_info": {
   "codemirror_mode": {
    "name": "ipython",
    "version": 3
   },
   "file_extension": ".py",
   "mimetype": "text/x-python",
   "name": "python",
   "nbconvert_exporter": "python",
   "pygments_lexer": "ipython3",
   "version": "3.8.6"
  },
  "orig_nbformat": 4
 },
 "nbformat": 4,
 "nbformat_minor": 2
}
