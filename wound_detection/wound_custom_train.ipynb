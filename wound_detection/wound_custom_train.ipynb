{
 "cells": [
  {
   "attachments": {},
   "cell_type": "markdown",
   "metadata": {},
   "source": [
    "# Pre-setting the environment"
   ]
  },
  {
   "cell_type": "code",
   "execution_count": 2,
   "metadata": {},
   "outputs": [
    {
     "name": "stdout",
     "output_type": "stream",
     "text": [
      "Requirement already satisfied: ultralytics in /Users/hwangjaeyeong/miniforge3/envs/pytorch/lib/python3.10/site-packages (8.0.49)\n",
      "Requirement already satisfied: sentry-sdk in /Users/hwangjaeyeong/miniforge3/envs/pytorch/lib/python3.10/site-packages (from ultralytics) (1.16.0)\n",
      "Requirement already satisfied: tensorboard>=2.4.1 in /Users/hwangjaeyeong/miniforge3/envs/pytorch/lib/python3.10/site-packages (from ultralytics) (2.12.0)\n",
      "Requirement already satisfied: opencv-python>=4.6.0 in /Users/hwangjaeyeong/miniforge3/envs/pytorch/lib/python3.10/site-packages (from ultralytics) (4.7.0)\n",
      "Requirement already satisfied: pandas>=1.1.4 in /Users/hwangjaeyeong/miniforge3/envs/pytorch/lib/python3.10/site-packages (from ultralytics) (1.5.2)\n",
      "Requirement already satisfied: psutil in /Users/hwangjaeyeong/miniforge3/envs/pytorch/lib/python3.10/site-packages (from ultralytics) (5.9.4)\n",
      "Requirement already satisfied: requests>=2.23.0 in /Users/hwangjaeyeong/miniforge3/envs/pytorch/lib/python3.10/site-packages (from ultralytics) (2.28.2)\n",
      "Requirement already satisfied: tqdm>=4.64.0 in /Users/hwangjaeyeong/miniforge3/envs/pytorch/lib/python3.10/site-packages (from ultralytics) (4.64.1)\n",
      "Requirement already satisfied: Pillow>=7.1.2 in /Users/hwangjaeyeong/miniforge3/envs/pytorch/lib/python3.10/site-packages (from ultralytics) (9.4.0)\n",
      "Requirement already satisfied: numpy>=1.18.5 in /Users/hwangjaeyeong/miniforge3/envs/pytorch/lib/python3.10/site-packages (from ultralytics) (1.24.2)\n",
      "Requirement already satisfied: matplotlib>=3.2.2 in /Users/hwangjaeyeong/miniforge3/envs/pytorch/lib/python3.10/site-packages (from ultralytics) (3.6.2)\n",
      "Requirement already satisfied: scipy>=1.4.1 in /Users/hwangjaeyeong/miniforge3/envs/pytorch/lib/python3.10/site-packages (from ultralytics) (1.10.1)\n",
      "Requirement already satisfied: certifi>=2022.12.7 in /Users/hwangjaeyeong/miniforge3/envs/pytorch/lib/python3.10/site-packages (from ultralytics) (2022.12.7)\n",
      "Requirement already satisfied: torchvision>=0.8.1 in /Users/hwangjaeyeong/miniforge3/envs/pytorch/lib/python3.10/site-packages (from ultralytics) (0.14.1)\n",
      "Requirement already satisfied: seaborn>=0.11.0 in /Users/hwangjaeyeong/miniforge3/envs/pytorch/lib/python3.10/site-packages (from ultralytics) (0.12.2)\n",
      "Requirement already satisfied: thop>=0.1.1 in /Users/hwangjaeyeong/miniforge3/envs/pytorch/lib/python3.10/site-packages (from ultralytics) (0.1.1.post2209072238)\n",
      "Requirement already satisfied: torch>=1.7.0 in /Users/hwangjaeyeong/miniforge3/envs/pytorch/lib/python3.10/site-packages (from ultralytics) (1.13.1)\n",
      "Requirement already satisfied: PyYAML>=5.3.1 in /Users/hwangjaeyeong/miniforge3/envs/pytorch/lib/python3.10/site-packages (from ultralytics) (6.0)\n",
      "Requirement already satisfied: python-dateutil>=2.7 in /Users/hwangjaeyeong/miniforge3/envs/pytorch/lib/python3.10/site-packages (from matplotlib>=3.2.2->ultralytics) (2.8.2)\n",
      "Requirement already satisfied: pyparsing>=2.2.1 in /Users/hwangjaeyeong/miniforge3/envs/pytorch/lib/python3.10/site-packages (from matplotlib>=3.2.2->ultralytics) (3.0.9)\n",
      "Requirement already satisfied: fonttools>=4.22.0 in /Users/hwangjaeyeong/miniforge3/envs/pytorch/lib/python3.10/site-packages (from matplotlib>=3.2.2->ultralytics) (4.38.0)\n",
      "Requirement already satisfied: cycler>=0.10 in /Users/hwangjaeyeong/miniforge3/envs/pytorch/lib/python3.10/site-packages (from matplotlib>=3.2.2->ultralytics) (0.11.0)\n",
      "Requirement already satisfied: contourpy>=1.0.1 in /Users/hwangjaeyeong/miniforge3/envs/pytorch/lib/python3.10/site-packages (from matplotlib>=3.2.2->ultralytics) (1.0.6)\n",
      "Requirement already satisfied: kiwisolver>=1.0.1 in /Users/hwangjaeyeong/miniforge3/envs/pytorch/lib/python3.10/site-packages (from matplotlib>=3.2.2->ultralytics) (1.4.4)\n",
      "Requirement already satisfied: packaging>=20.0 in /Users/hwangjaeyeong/miniforge3/envs/pytorch/lib/python3.10/site-packages (from matplotlib>=3.2.2->ultralytics) (22.0)\n",
      "Requirement already satisfied: pytz>=2020.1 in /Users/hwangjaeyeong/miniforge3/envs/pytorch/lib/python3.10/site-packages (from pandas>=1.1.4->ultralytics) (2022.7.1)\n",
      "Requirement already satisfied: urllib3<1.27,>=1.21.1 in /Users/hwangjaeyeong/miniforge3/envs/pytorch/lib/python3.10/site-packages (from requests>=2.23.0->ultralytics) (1.26.14)\n",
      "Requirement already satisfied: charset-normalizer<4,>=2 in /Users/hwangjaeyeong/miniforge3/envs/pytorch/lib/python3.10/site-packages (from requests>=2.23.0->ultralytics) (3.0.1)\n",
      "Requirement already satisfied: idna<4,>=2.5 in /Users/hwangjaeyeong/miniforge3/envs/pytorch/lib/python3.10/site-packages (from requests>=2.23.0->ultralytics) (3.4)\n",
      "Requirement already satisfied: protobuf>=3.19.6 in /Users/hwangjaeyeong/miniforge3/envs/pytorch/lib/python3.10/site-packages (from tensorboard>=2.4.1->ultralytics) (4.22.0)\n",
      "Requirement already satisfied: tensorboard-data-server<0.8.0,>=0.7.0 in /Users/hwangjaeyeong/miniforge3/envs/pytorch/lib/python3.10/site-packages (from tensorboard>=2.4.1->ultralytics) (0.7.0)\n",
      "Requirement already satisfied: google-auth<3,>=1.6.3 in /Users/hwangjaeyeong/miniforge3/envs/pytorch/lib/python3.10/site-packages (from tensorboard>=2.4.1->ultralytics) (2.16.1)\n",
      "Requirement already satisfied: setuptools>=41.0.0 in /Users/hwangjaeyeong/miniforge3/envs/pytorch/lib/python3.10/site-packages (from tensorboard>=2.4.1->ultralytics) (65.5.1)\n",
      "Requirement already satisfied: google-auth-oauthlib<0.5,>=0.4.1 in /Users/hwangjaeyeong/miniforge3/envs/pytorch/lib/python3.10/site-packages (from tensorboard>=2.4.1->ultralytics) (0.4.6)\n",
      "Requirement already satisfied: grpcio>=1.48.2 in /Users/hwangjaeyeong/miniforge3/envs/pytorch/lib/python3.10/site-packages (from tensorboard>=2.4.1->ultralytics) (1.51.3)\n",
      "Requirement already satisfied: absl-py>=0.4 in /Users/hwangjaeyeong/miniforge3/envs/pytorch/lib/python3.10/site-packages (from tensorboard>=2.4.1->ultralytics) (1.4.0)\n",
      "Requirement already satisfied: werkzeug>=1.0.1 in /Users/hwangjaeyeong/miniforge3/envs/pytorch/lib/python3.10/site-packages (from tensorboard>=2.4.1->ultralytics) (2.2.3)\n",
      "Requirement already satisfied: wheel>=0.26 in /Users/hwangjaeyeong/miniforge3/envs/pytorch/lib/python3.10/site-packages (from tensorboard>=2.4.1->ultralytics) (0.38.4)\n",
      "Requirement already satisfied: tensorboard-plugin-wit>=1.6.0 in /Users/hwangjaeyeong/miniforge3/envs/pytorch/lib/python3.10/site-packages (from tensorboard>=2.4.1->ultralytics) (1.8.1)\n",
      "Requirement already satisfied: markdown>=2.6.8 in /Users/hwangjaeyeong/miniforge3/envs/pytorch/lib/python3.10/site-packages (from tensorboard>=2.4.1->ultralytics) (3.4.1)\n",
      "Requirement already satisfied: typing-extensions in /Users/hwangjaeyeong/miniforge3/envs/pytorch/lib/python3.10/site-packages (from torch>=1.7.0->ultralytics) (4.5.0)\n",
      "Requirement already satisfied: pyasn1-modules>=0.2.1 in /Users/hwangjaeyeong/miniforge3/envs/pytorch/lib/python3.10/site-packages (from google-auth<3,>=1.6.3->tensorboard>=2.4.1->ultralytics) (0.2.8)\n",
      "Requirement already satisfied: rsa<5,>=3.1.4 in /Users/hwangjaeyeong/miniforge3/envs/pytorch/lib/python3.10/site-packages (from google-auth<3,>=1.6.3->tensorboard>=2.4.1->ultralytics) (4.9)\n",
      "Requirement already satisfied: six>=1.9.0 in /Users/hwangjaeyeong/miniforge3/envs/pytorch/lib/python3.10/site-packages (from google-auth<3,>=1.6.3->tensorboard>=2.4.1->ultralytics) (1.16.0)\n",
      "Requirement already satisfied: cachetools<6.0,>=2.0.0 in /Users/hwangjaeyeong/miniforge3/envs/pytorch/lib/python3.10/site-packages (from google-auth<3,>=1.6.3->tensorboard>=2.4.1->ultralytics) (5.3.0)\n",
      "Requirement already satisfied: requests-oauthlib>=0.7.0 in /Users/hwangjaeyeong/miniforge3/envs/pytorch/lib/python3.10/site-packages (from google-auth-oauthlib<0.5,>=0.4.1->tensorboard>=2.4.1->ultralytics) (1.3.1)\n",
      "Requirement already satisfied: MarkupSafe>=2.1.1 in /Users/hwangjaeyeong/miniforge3/envs/pytorch/lib/python3.10/site-packages (from werkzeug>=1.0.1->tensorboard>=2.4.1->ultralytics) (2.1.2)\n",
      "Requirement already satisfied: pyasn1<0.5.0,>=0.4.6 in /Users/hwangjaeyeong/miniforge3/envs/pytorch/lib/python3.10/site-packages (from pyasn1-modules>=0.2.1->google-auth<3,>=1.6.3->tensorboard>=2.4.1->ultralytics) (0.4.8)\n",
      "Requirement already satisfied: oauthlib>=3.0.0 in /Users/hwangjaeyeong/miniforge3/envs/pytorch/lib/python3.10/site-packages (from requests-oauthlib>=0.7.0->google-auth-oauthlib<0.5,>=0.4.1->tensorboard>=2.4.1->ultralytics) (3.2.2)\n"
     ]
    }
   ],
   "source": [
    "!pip install ultralytics"
   ]
  },
  {
   "cell_type": "code",
   "execution_count": 12,
   "metadata": {},
   "outputs": [
    {
     "name": "stdout",
     "output_type": "stream",
     "text": [
      "Requirement already satisfied: torch in /Users/hwangjaeyeong/miniforge3/envs/pytorch/lib/python3.10/site-packages (1.13.1)\n",
      "Requirement already satisfied: typing-extensions in /Users/hwangjaeyeong/miniforge3/envs/pytorch/lib/python3.10/site-packages (from torch) (4.5.0)\n"
     ]
    }
   ],
   "source": [
    "!python -m pip install torch"
   ]
  },
  {
   "cell_type": "code",
   "execution_count": 18,
   "metadata": {},
   "outputs": [
    {
     "name": "stdout",
     "output_type": "stream",
     "text": [
      "Requirement already satisfied: torch in /Users/hwangjaeyeong/miniforge3/envs/pytorch/lib/python3.10/site-packages (1.13.1)\n",
      "Requirement already satisfied: torchvision in /Users/hwangjaeyeong/miniforge3/envs/pytorch/lib/python3.10/site-packages (0.14.1)\n",
      "Collecting torchaudio\n",
      "  Downloading torchaudio-2.0.1-cp310-cp310-macosx_11_0_arm64.whl (3.6 MB)\n",
      "\u001b[2K     \u001b[90m━━━━━━━━━━━━━━━━━━━━━━━━━━━━━━━━━━━━━━━━\u001b[0m \u001b[32m3.6/3.6 MB\u001b[0m \u001b[31m21.3 MB/s\u001b[0m eta \u001b[36m0:00:00\u001b[0ma \u001b[36m0:00:01\u001b[0m\n",
      "\u001b[?25hRequirement already satisfied: typing-extensions in /Users/hwangjaeyeong/miniforge3/envs/pytorch/lib/python3.10/site-packages (from torch) (4.5.0)\n",
      "Requirement already satisfied: numpy in /Users/hwangjaeyeong/miniforge3/envs/pytorch/lib/python3.10/site-packages (from torchvision) (1.24.2)\n",
      "Requirement already satisfied: pillow!=8.3.*,>=5.3.0 in /Users/hwangjaeyeong/miniforge3/envs/pytorch/lib/python3.10/site-packages (from torchvision) (9.4.0)\n",
      "Requirement already satisfied: requests in /Users/hwangjaeyeong/miniforge3/envs/pytorch/lib/python3.10/site-packages (from torchvision) (2.28.2)\n",
      "Collecting torch\n",
      "  Downloading torch-2.0.0-cp310-none-macosx_11_0_arm64.whl (55.8 MB)\n",
      "\u001b[2K     \u001b[90m━━━━━━━━━━━━━━━━━━━━━━━━━━━━━━━━━━━━━━━━\u001b[0m \u001b[32m55.8/55.8 MB\u001b[0m \u001b[31m28.2 MB/s\u001b[0m eta \u001b[36m0:00:00\u001b[0m00:01\u001b[0m00:01\u001b[0m\n",
      "\u001b[?25hCollecting networkx\n",
      "  Using cached networkx-3.0-py3-none-any.whl (2.0 MB)\n",
      "Collecting sympy\n",
      "  Using cached sympy-1.11.1-py3-none-any.whl (6.5 MB)\n",
      "Collecting filelock\n",
      "  Using cached filelock-3.10.0-py3-none-any.whl (9.9 kB)\n",
      "Collecting jinja2\n",
      "  Downloading Jinja2-3.1.2-py3-none-any.whl (133 kB)\n",
      "\u001b[2K     \u001b[90m━━━━━━━━━━━━━━━━━━━━━━━━━━━━━━━━━━━━━━━\u001b[0m \u001b[32m133.1/133.1 kB\u001b[0m \u001b[31m9.1 MB/s\u001b[0m eta \u001b[36m0:00:00\u001b[0m\n",
      "\u001b[?25hRequirement already satisfied: MarkupSafe>=2.0 in /Users/hwangjaeyeong/miniforge3/envs/pytorch/lib/python3.10/site-packages (from jinja2->torch) (2.1.2)\n",
      "Requirement already satisfied: certifi>=2017.4.17 in /Users/hwangjaeyeong/miniforge3/envs/pytorch/lib/python3.10/site-packages (from requests->torchvision) (2022.12.7)\n",
      "Requirement already satisfied: charset-normalizer<4,>=2 in /Users/hwangjaeyeong/miniforge3/envs/pytorch/lib/python3.10/site-packages (from requests->torchvision) (3.0.1)\n",
      "Requirement already satisfied: idna<4,>=2.5 in /Users/hwangjaeyeong/miniforge3/envs/pytorch/lib/python3.10/site-packages (from requests->torchvision) (2.10)\n",
      "Requirement already satisfied: urllib3<1.27,>=1.21.1 in /Users/hwangjaeyeong/miniforge3/envs/pytorch/lib/python3.10/site-packages (from requests->torchvision) (1.26.14)\n",
      "Collecting mpmath>=0.19\n",
      "  Using cached mpmath-1.3.0-py3-none-any.whl (536 kB)\n",
      "Installing collected packages: mpmath, sympy, networkx, jinja2, filelock, torch, torchaudio\n",
      "  Attempting uninstall: torch\n",
      "    Found existing installation: torch 1.13.1\n",
      "    Uninstalling torch-1.13.1:\n",
      "      Successfully uninstalled torch-1.13.1\n",
      "Successfully installed filelock-3.10.0 jinja2-3.1.2 mpmath-1.3.0 networkx-3.0 sympy-1.11.1 torch-2.0.0 torchaudio-2.0.1\n"
     ]
    }
   ],
   "source": [
    "!pip3 install torch torchvision torchaudio"
   ]
  },
  {
   "attachments": {},
   "cell_type": "markdown",
   "metadata": {},
   "source": [
    "# Get the custom wound image datasets on Device"
   ]
  },
  {
   "cell_type": "code",
   "execution_count": 4,
   "metadata": {},
   "outputs": [
    {
     "name": "stdout",
     "output_type": "stream",
     "text": [
      "Collecting roboflow\n",
      "  Using cached roboflow-1.0.1-py3-none-any.whl (55 kB)\n",
      "Collecting cycler==0.10.0\n",
      "  Using cached cycler-0.10.0-py2.py3-none-any.whl (6.5 kB)\n",
      "Requirement already satisfied: python-dateutil in /Users/hwangjaeyeong/miniforge3/envs/pytorch/lib/python3.10/site-packages (from roboflow) (2.8.2)\n",
      "Requirement already satisfied: PyYAML>=5.3.1 in /Users/hwangjaeyeong/miniforge3/envs/pytorch/lib/python3.10/site-packages (from roboflow) (6.0)\n",
      "Requirement already satisfied: certifi==2022.12.7 in /Users/hwangjaeyeong/miniforge3/envs/pytorch/lib/python3.10/site-packages (from roboflow) (2022.12.7)\n",
      "Requirement already satisfied: tqdm>=4.41.0 in /Users/hwangjaeyeong/miniforge3/envs/pytorch/lib/python3.10/site-packages (from roboflow) (4.64.1)\n",
      "Requirement already satisfied: requests in /Users/hwangjaeyeong/miniforge3/envs/pytorch/lib/python3.10/site-packages (from roboflow) (2.28.2)\n",
      "Collecting idna==2.10\n",
      "  Using cached idna-2.10-py2.py3-none-any.whl (58 kB)\n",
      "Requirement already satisfied: numpy>=1.18.5 in /Users/hwangjaeyeong/miniforge3/envs/pytorch/lib/python3.10/site-packages (from roboflow) (1.24.2)\n",
      "Collecting pyparsing==2.4.7\n",
      "  Using cached pyparsing-2.4.7-py2.py3-none-any.whl (67 kB)\n",
      "Collecting python-dotenv\n",
      "  Using cached python_dotenv-1.0.0-py3-none-any.whl (19 kB)\n",
      "Requirement already satisfied: Pillow>=7.1.2 in /Users/hwangjaeyeong/miniforge3/envs/pytorch/lib/python3.10/site-packages (from roboflow) (9.4.0)\n",
      "Requirement already satisfied: opencv-python>=4.1.2 in /Users/hwangjaeyeong/miniforge3/envs/pytorch/lib/python3.10/site-packages (from roboflow) (4.7.0)\n",
      "Requirement already satisfied: kiwisolver>=1.3.1 in /Users/hwangjaeyeong/miniforge3/envs/pytorch/lib/python3.10/site-packages (from roboflow) (1.4.4)\n",
      "Collecting requests-toolbelt\n",
      "  Using cached requests_toolbelt-0.10.1-py2.py3-none-any.whl (54 kB)\n",
      "Requirement already satisfied: urllib3>=1.26.6 in /Users/hwangjaeyeong/miniforge3/envs/pytorch/lib/python3.10/site-packages (from roboflow) (1.26.14)\n",
      "Requirement already satisfied: six in /Users/hwangjaeyeong/miniforge3/envs/pytorch/lib/python3.10/site-packages (from roboflow) (1.16.0)\n",
      "Requirement already satisfied: matplotlib in /Users/hwangjaeyeong/miniforge3/envs/pytorch/lib/python3.10/site-packages (from roboflow) (3.6.2)\n",
      "Collecting chardet==4.0.0\n",
      "  Using cached chardet-4.0.0-py2.py3-none-any.whl (178 kB)\n",
      "Collecting wget\n",
      "  Using cached wget-3.2.zip (10 kB)\n",
      "  Preparing metadata (setup.py) ... \u001b[?25ldone\n",
      "\u001b[?25hRequirement already satisfied: contourpy>=1.0.1 in /Users/hwangjaeyeong/miniforge3/envs/pytorch/lib/python3.10/site-packages (from matplotlib->roboflow) (1.0.6)\n",
      "Requirement already satisfied: fonttools>=4.22.0 in /Users/hwangjaeyeong/miniforge3/envs/pytorch/lib/python3.10/site-packages (from matplotlib->roboflow) (4.38.0)\n",
      "Requirement already satisfied: packaging>=20.0 in /Users/hwangjaeyeong/miniforge3/envs/pytorch/lib/python3.10/site-packages (from matplotlib->roboflow) (22.0)\n",
      "Requirement already satisfied: charset-normalizer<4,>=2 in /Users/hwangjaeyeong/miniforge3/envs/pytorch/lib/python3.10/site-packages (from requests->roboflow) (3.0.1)\n",
      "Building wheels for collected packages: wget\n",
      "  Building wheel for wget (setup.py) ... \u001b[?25ldone\n",
      "\u001b[?25h  Created wheel for wget: filename=wget-3.2-py3-none-any.whl size=9656 sha256=384ed1c785a40618c2ceab6f5e46098b47acaab23dcc11be480eec32e54a9710\n",
      "  Stored in directory: /Users/hwangjaeyeong/Library/Caches/pip/wheels/46/78/0e/8e5e2b500f83a682c8d7e7ce820638cf99faa894a662f71cf0\n",
      "Successfully built wget\n",
      "Installing collected packages: wget, python-dotenv, pyparsing, idna, cycler, chardet, requests-toolbelt, roboflow\n",
      "  Attempting uninstall: pyparsing\n",
      "    Found existing installation: pyparsing 3.0.9\n",
      "    Uninstalling pyparsing-3.0.9:\n",
      "      Successfully uninstalled pyparsing-3.0.9\n",
      "  Attempting uninstall: idna\n",
      "    Found existing installation: idna 3.4\n",
      "    Uninstalling idna-3.4:\n",
      "      Successfully uninstalled idna-3.4\n",
      "  Attempting uninstall: cycler\n",
      "    Found existing installation: cycler 0.11.0\n",
      "    Uninstalling cycler-0.11.0:\n",
      "      Successfully uninstalled cycler-0.11.0\n",
      "Successfully installed chardet-4.0.0 cycler-0.10.0 idna-2.10 pyparsing-2.4.7 python-dotenv-1.0.0 requests-toolbelt-0.10.1 roboflow-1.0.1 wget-3.2\n",
      "loading Roboflow workspace...\n",
      "loading Roboflow project...\n",
      "Dependency ultralytics<=8.0.20 is required but found version=8.0.49, to fix: `pip install ultralytics<=8.0.20`\n",
      "Downloading Dataset Version Zip in Wound-Object-Detection-1 to yolov8: 100% [6527089 / 6527089] bytes\n"
     ]
    },
    {
     "name": "stderr",
     "output_type": "stream",
     "text": [
      "Extracting Dataset Version Zip to Wound-Object-Detection-1 in yolov8:: 100%|██████████| 1556/1556 [00:01<00:00, 874.29it/s] \n"
     ]
    }
   ],
   "source": [
    "!pip install roboflow\n",
    "\n",
    "from roboflow import Roboflow\n",
    "rf = Roboflow(api_key=\"XczdwzLIhjsSXskZ5K4v\")\n",
    "project = rf.workspace(\"dlgoldenhourwounddetection\").project(\"wound-object-detection\")\n",
    "dataset = project.version(1).download(\"yolov8\")\n"
   ]
  },
  {
   "attachments": {},
   "cell_type": "markdown",
   "metadata": {},
   "source": [
    "# Custome YOLOv8 Training"
   ]
  },
  {
   "cell_type": "code",
   "execution_count": 24,
   "metadata": {},
   "outputs": [
    {
     "data": {
      "text/plain": [
       "True"
      ]
     },
     "execution_count": 24,
     "metadata": {},
     "output_type": "execute_result"
    }
   ],
   "source": [
    "import torch\n",
    "torch.backends.mps.is_available()\n"
   ]
  },
  {
   "cell_type": "code",
   "execution_count": 34,
   "metadata": {},
   "outputs": [
    {
     "name": "stderr",
     "output_type": "stream",
     "text": [
      "PRO TIP 💡 Replace 'model=yolov5s.yaml' with new 'model=yolov5su.yaml'.\n",
      "YOLOv5 'u' models are trained with https://github.com/ultralytics/ultralytics and feature improved performance vs standard YOLOv5 models trained with https://github.com/ultralytics/yolov5.\n",
      "\n",
      "\n",
      "                   from  n    params  module                                       arguments                     \n",
      "  0                  -1  1      3520  ultralytics.nn.modules.Conv                  [3, 32, 6, 2, 2]              \n",
      "  1                  -1  1     18560  ultralytics.nn.modules.Conv                  [32, 64, 3, 2]                \n",
      "  2                  -1  1     18816  ultralytics.nn.modules.C3                    [64, 64, 1]                   \n",
      "  3                  -1  1     73984  ultralytics.nn.modules.Conv                  [64, 128, 3, 2]               \n",
      "  4                  -1  2    115712  ultralytics.nn.modules.C3                    [128, 128, 2]                 \n",
      "  5                  -1  1    295424  ultralytics.nn.modules.Conv                  [128, 256, 3, 2]              \n",
      "  6                  -1  3    625152  ultralytics.nn.modules.C3                    [256, 256, 3]                 \n",
      "  7                  -1  1   1180672  ultralytics.nn.modules.Conv                  [256, 512, 3, 2]              \n",
      "  8                  -1  1   1182720  ultralytics.nn.modules.C3                    [512, 512, 1]                 \n",
      "  9                  -1  1    656896  ultralytics.nn.modules.SPPF                  [512, 512, 5]                 \n",
      " 10                  -1  1    131584  ultralytics.nn.modules.Conv                  [512, 256, 1, 1]              \n",
      " 11                  -1  1         0  torch.nn.modules.upsampling.Upsample         [None, 2, 'nearest']          \n",
      " 12             [-1, 6]  1         0  ultralytics.nn.modules.Concat                [1]                           \n",
      " 13                  -1  1    361984  ultralytics.nn.modules.C3                    [512, 256, 1, False]          \n",
      " 14                  -1  1     33024  ultralytics.nn.modules.Conv                  [256, 128, 1, 1]              \n",
      " 15                  -1  1         0  torch.nn.modules.upsampling.Upsample         [None, 2, 'nearest']          \n",
      " 16             [-1, 4]  1         0  ultralytics.nn.modules.Concat                [1]                           \n",
      " 17                  -1  1     90880  ultralytics.nn.modules.C3                    [256, 128, 1, False]          \n",
      " 18                  -1  1    147712  ultralytics.nn.modules.Conv                  [128, 128, 3, 2]              \n",
      " 19            [-1, 14]  1         0  ultralytics.nn.modules.Concat                [1]                           \n",
      " 20                  -1  1    296448  ultralytics.nn.modules.C3                    [256, 256, 1, False]          \n",
      " 21                  -1  1    590336  ultralytics.nn.modules.Conv                  [256, 256, 3, 2]              \n",
      " 22            [-1, 10]  1         0  ultralytics.nn.modules.Concat                [1]                           \n",
      " 23                  -1  1   1182720  ultralytics.nn.modules.C3                    [512, 512, 1, False]          \n",
      " 24        [17, 20, 23]  1   2147008  ultralytics.nn.modules.Detect                [80, [128, 256, 512]]         \n",
      "YOLOv5su summary: 262 layers, 9153152 parameters, 9153136 gradients, 24.2 GFLOPs\n",
      "\n",
      "New https://pypi.org/project/ultralytics/8.0.55 available 😃 Update with 'pip install -U ultralytics'\n",
      "Ultralytics YOLOv8.0.49 🚀 Python-3.10.8 torch-1.13.1 CPU\n",
      "\u001b[34m\u001b[1myolo/engine/trainer: \u001b[0mtask=detect, mode=train, model=/Users/hwangjaeyeong/miniforge3/envs/pytorch/lib/python3.10/site-packages/ultralytics/models/v5/yolov5su.yaml, data=/Volumes/T7/Project_Database/2023_Google_Solution_Challenge/DL-GoldenHour/wound_detection/Wound-Object-Detection-1/data.yaml, epochs=50, patience=50, batch=16, imgsz=640, save=True, save_period=-1, cache=False, device=None, workers=8, project=None, name=None, exist_ok=False, pretrained=False, optimizer=SGD, verbose=True, seed=0, deterministic=True, single_cls=False, image_weights=False, rect=False, cos_lr=False, close_mosaic=10, resume=False, min_memory=False, overlap_mask=True, mask_ratio=4, dropout=0.0, val=True, split=val, save_json=False, save_hybrid=False, conf=None, iou=0.7, max_det=300, half=False, dnn=False, plots=True, source=None, show=False, save_txt=False, save_conf=False, save_crop=False, hide_labels=False, hide_conf=False, vid_stride=1, line_thickness=3, visualize=False, augment=False, agnostic_nms=False, classes=None, retina_masks=False, boxes=True, format=torchscript, keras=False, optimize=False, int8=False, dynamic=False, simplify=False, opset=None, workspace=4, nms=False, lr0=0.01, lrf=0.01, momentum=0.937, weight_decay=0.0005, warmup_epochs=3.0, warmup_momentum=0.8, warmup_bias_lr=0.1, box=7.5, cls=0.5, dfl=1.5, fl_gamma=0.0, label_smoothing=0.0, nbs=64, hsv_h=0.015, hsv_s=0.7, hsv_v=0.4, degrees=0.0, translate=0.1, scale=0.5, shear=0.0, perspective=0.0, flipud=0.0, fliplr=0.5, mosaic=1.0, mixup=0.0, copy_paste=0.0, cfg=None, v5loader=False, tracker=botsort.yaml, save_dir=runs/detect/train15\n",
      "Overriding model.yaml nc=80 with nc=5\n",
      "\n",
      "                   from  n    params  module                                       arguments                     \n",
      "  0                  -1  1      3520  ultralytics.nn.modules.Conv                  [3, 32, 6, 2, 2]              \n",
      "  1                  -1  1     18560  ultralytics.nn.modules.Conv                  [32, 64, 3, 2]                \n",
      "  2                  -1  1     18816  ultralytics.nn.modules.C3                    [64, 64, 1]                   \n",
      "  3                  -1  1     73984  ultralytics.nn.modules.Conv                  [64, 128, 3, 2]               \n",
      "  4                  -1  2    115712  ultralytics.nn.modules.C3                    [128, 128, 2]                 \n",
      "  5                  -1  1    295424  ultralytics.nn.modules.Conv                  [128, 256, 3, 2]              \n",
      "  6                  -1  3    625152  ultralytics.nn.modules.C3                    [256, 256, 3]                 \n",
      "  7                  -1  1   1180672  ultralytics.nn.modules.Conv                  [256, 512, 3, 2]              \n",
      "Exception ignored in: <function _MultiProcessingDataLoaderIter.__del__ at 0x117e0c1f0>\n",
      "Traceback (most recent call last):\n",
      "  File \"/Users/hwangjaeyeong/miniforge3/envs/pytorch/lib/python3.10/site-packages/torch/utils/data/dataloader.py\", line 1466, in __del__\n",
      "    # we kill the worker.\n",
      "  File \"/Users/hwangjaeyeong/miniforge3/envs/pytorch/lib/python3.10/site-packages/torch/utils/data/dataloader.py\", line 1430, in _shutdown_workers\n",
      "    self._workers_done_event.set()\n",
      "  File \"/Users/hwangjaeyeong/miniforge3/envs/pytorch/lib/python3.10/multiprocessing/process.py\", line 149, in join\n",
      "    res = self._popen.wait(timeout)\n",
      "  File \"/Users/hwangjaeyeong/miniforge3/envs/pytorch/lib/python3.10/multiprocessing/popen_fork.py\", line 40, in wait\n",
      "    if not wait([self.sentinel], timeout):\n",
      "  File \"/Users/hwangjaeyeong/miniforge3/envs/pytorch/lib/python3.10/multiprocessing/connection.py\", line 936, in wait\n",
      "    ready = selector.select(timeout)\n",
      "  File \"/Users/hwangjaeyeong/miniforge3/envs/pytorch/lib/python3.10/selectors.py\", line 416, in select\n",
      "    fd_event_list = self._selector.poll(timeout)\n",
      "KeyboardInterrupt: \n",
      "  8                  -1  1   1182720  ultralytics.nn.modules.C3                    [512, 512, 1]                 \n",
      "  9                  -1  1    656896  ultralytics.nn.modules.SPPF                  [512, 512, 5]                 \n",
      " 10                  -1  1    131584  ultralytics.nn.modules.Conv                  [512, 256, 1, 1]              \n",
      " 11                  -1  1         0  torch.nn.modules.upsampling.Upsample         [None, 2, 'nearest']          \n",
      " 12             [-1, 6]  1         0  ultralytics.nn.modules.Concat                [1]                           \n",
      " 13                  -1  1    361984  ultralytics.nn.modules.C3                    [512, 256, 1, False]          \n",
      " 14                  -1  1     33024  ultralytics.nn.modules.Conv                  [256, 128, 1, 1]              \n",
      " 15                  -1  1         0  torch.nn.modules.upsampling.Upsample         [None, 2, 'nearest']          \n",
      " 16             [-1, 4]  1         0  ultralytics.nn.modules.Concat                [1]                           \n",
      " 17                  -1  1     90880  ultralytics.nn.modules.C3                    [256, 128, 1, False]          \n",
      " 18                  -1  1    147712  ultralytics.nn.modules.Conv                  [128, 128, 3, 2]              \n",
      " 19            [-1, 14]  1         0  ultralytics.nn.modules.Concat                [1]                           \n",
      " 20                  -1  1    296448  ultralytics.nn.modules.C3                    [256, 256, 1, False]          \n",
      " 21                  -1  1    590336  ultralytics.nn.modules.Conv                  [256, 256, 3, 2]              \n",
      " 22            [-1, 10]  1         0  ultralytics.nn.modules.Concat                [1]                           \n",
      " 23                  -1  1   1182720  ultralytics.nn.modules.C3                    [512, 512, 1, False]          \n",
      " 24        [17, 20, 23]  1   2117983  ultralytics.nn.modules.Detect                [5, [128, 256, 512]]          \n",
      "YOLOv5su summary: 262 layers, 9124127 parameters, 9124111 gradients, 24.1 GFLOPs\n",
      "\n",
      "\u001b[34m\u001b[1moptimizer:\u001b[0m SGD(lr=0.01) with parameter groups 69 weight(decay=0.0), 76 weight(decay=0.0005), 75 bias\n",
      "\u001b[34m\u001b[1mtrain: \u001b[0mScanning /Volumes/T7/Project_Database/2023_Google_Solution_Challenge/DL-GoldenHour/wound_detection/Wound-Object-Detection-1/train/labels.cache... 679 images, 3 backgrounds, 0 corrupt: 100%|██████████| 679/679 [00:00<?, ?it/s]\n",
      "\u001b[34m\u001b[1mval: \u001b[0mScanning /Volumes/T7/Project_Database/2023_Google_Solution_Challenge/DL-GoldenHour/wound_detection/Wound-Object-Detection-1/valid/labels.cache... 60 images, 1 backgrounds, 0 corrupt: 100%|██████████| 60/60 [00:00<?, ?it/s]\n",
      "Plotting labels to runs/detect/train15/labels.jpg... \n",
      "Image sizes 640 train, 640 val\n",
      "Using 0 dataloader workers\n",
      "Logging results to \u001b[1mruns/detect/train15\u001b[0m\n",
      "Starting training for 50 epochs...\n",
      "\n",
      "      Epoch    GPU_mem   box_loss   cls_loss   dfl_loss  Instances       Size\n",
      "       1/50         0G      3.049      4.194      4.173         44        640:  37%|███▋      | 16/43 [03:31<05:56, 13.19s/it]\n"
     ]
    },
    {
     "ename": "KeyboardInterrupt",
     "evalue": "",
     "output_type": "error",
     "traceback": [
      "\u001b[0;31m---------------------------------------------------------------------------\u001b[0m",
      "\u001b[0;31mKeyboardInterrupt\u001b[0m                         Traceback (most recent call last)",
      "Cell \u001b[0;32mIn[34], line 7\u001b[0m\n\u001b[1;32m      4\u001b[0m model \u001b[39m=\u001b[39m YOLO(\u001b[39m'\u001b[39m\u001b[39myolov5s.yaml\u001b[39m\u001b[39m'\u001b[39m)  \u001b[39m# build a new model from YAML and use Metal\u001b[39;00m\n\u001b[1;32m      6\u001b[0m \u001b[39m# Train the model\u001b[39;00m\n\u001b[0;32m----> 7\u001b[0m model\u001b[39m.\u001b[39;49mtrain(data\u001b[39m=\u001b[39;49m\u001b[39m'\u001b[39;49m\u001b[39m/Volumes/T7/Project_Database/2023_Google_Solution_Challenge/DL-GoldenHour/wound_detection/Wound-Object-Detection-1/data.yaml\u001b[39;49m\u001b[39m'\u001b[39;49m, epochs\u001b[39m=\u001b[39;49m\u001b[39m50\u001b[39;49m, imgsz\u001b[39m=\u001b[39;49m\u001b[39m640\u001b[39;49m)\n",
      "File \u001b[0;32m~/miniforge3/envs/pytorch/lib/python3.10/site-packages/ultralytics/yolo/engine/model.py:319\u001b[0m, in \u001b[0;36mYOLO.train\u001b[0;34m(self, **kwargs)\u001b[0m\n\u001b[1;32m    317\u001b[0m     \u001b[39mself\u001b[39m\u001b[39m.\u001b[39mmodel \u001b[39m=\u001b[39m \u001b[39mself\u001b[39m\u001b[39m.\u001b[39mtrainer\u001b[39m.\u001b[39mmodel\n\u001b[1;32m    318\u001b[0m \u001b[39mself\u001b[39m\u001b[39m.\u001b[39mtrainer\u001b[39m.\u001b[39mhub_session \u001b[39m=\u001b[39m \u001b[39mself\u001b[39m\u001b[39m.\u001b[39msession  \u001b[39m# attach optional HUB session\u001b[39;00m\n\u001b[0;32m--> 319\u001b[0m \u001b[39mself\u001b[39;49m\u001b[39m.\u001b[39;49mtrainer\u001b[39m.\u001b[39;49mtrain()\n\u001b[1;32m    320\u001b[0m \u001b[39m# update model and cfg after training\u001b[39;00m\n\u001b[1;32m    321\u001b[0m \u001b[39mif\u001b[39;00m RANK \u001b[39min\u001b[39;00m {\u001b[39m0\u001b[39m, \u001b[39m-\u001b[39m\u001b[39m1\u001b[39m}:\n",
      "File \u001b[0;32m~/miniforge3/envs/pytorch/lib/python3.10/site-packages/ultralytics/yolo/engine/trainer.py:188\u001b[0m, in \u001b[0;36mBaseTrainer.train\u001b[0;34m(self)\u001b[0m\n\u001b[1;32m    186\u001b[0m         ddp_cleanup(\u001b[39mself\u001b[39m, \u001b[39mstr\u001b[39m(file))\n\u001b[1;32m    187\u001b[0m \u001b[39melse\u001b[39;00m:\n\u001b[0;32m--> 188\u001b[0m     \u001b[39mself\u001b[39;49m\u001b[39m.\u001b[39;49m_do_train(RANK, world_size)\n",
      "File \u001b[0;32m~/miniforge3/envs/pytorch/lib/python3.10/site-packages/ultralytics/yolo/engine/trainer.py:316\u001b[0m, in \u001b[0;36mBaseTrainer._do_train\u001b[0;34m(self, rank, world_size)\u001b[0m\n\u001b[1;32m    312\u001b[0m     \u001b[39mself\u001b[39m\u001b[39m.\u001b[39mtloss \u001b[39m=\u001b[39m (\u001b[39mself\u001b[39m\u001b[39m.\u001b[39mtloss \u001b[39m*\u001b[39m i \u001b[39m+\u001b[39m \u001b[39mself\u001b[39m\u001b[39m.\u001b[39mloss_items) \u001b[39m/\u001b[39m (i \u001b[39m+\u001b[39m \u001b[39m1\u001b[39m) \u001b[39mif\u001b[39;00m \u001b[39mself\u001b[39m\u001b[39m.\u001b[39mtloss \u001b[39mis\u001b[39;00m \u001b[39mnot\u001b[39;00m \u001b[39mNone\u001b[39;00m \\\n\u001b[1;32m    313\u001b[0m         \u001b[39melse\u001b[39;00m \u001b[39mself\u001b[39m\u001b[39m.\u001b[39mloss_items\n\u001b[1;32m    315\u001b[0m \u001b[39m# Backward\u001b[39;00m\n\u001b[0;32m--> 316\u001b[0m \u001b[39mself\u001b[39;49m\u001b[39m.\u001b[39;49mscaler\u001b[39m.\u001b[39;49mscale(\u001b[39mself\u001b[39;49m\u001b[39m.\u001b[39;49mloss)\u001b[39m.\u001b[39;49mbackward()\n\u001b[1;32m    318\u001b[0m \u001b[39m# Optimize - https://pytorch.org/docs/master/notes/amp_examples.html\u001b[39;00m\n\u001b[1;32m    319\u001b[0m \u001b[39mif\u001b[39;00m ni \u001b[39m-\u001b[39m last_opt_step \u001b[39m>\u001b[39m\u001b[39m=\u001b[39m \u001b[39mself\u001b[39m\u001b[39m.\u001b[39maccumulate:\n",
      "File \u001b[0;32m~/miniforge3/envs/pytorch/lib/python3.10/site-packages/torch/_tensor.py:488\u001b[0m, in \u001b[0;36mbackward\u001b[0;34m(self, gradient, retain_graph, create_graph, inputs)\u001b[0m\n\u001b[1;32m    477\u001b[0m \u001b[39mif\u001b[39;00m has_torch_function_unary(\u001b[39mself\u001b[39m):\n\u001b[1;32m    478\u001b[0m     \u001b[39mreturn\u001b[39;00m handle_torch_function(\n\u001b[1;32m    479\u001b[0m         Tensor\u001b[39m.\u001b[39mbackward,\n\u001b[1;32m    480\u001b[0m         (\u001b[39mself\u001b[39m,),\n\u001b[0;32m   (...)\u001b[0m\n\u001b[1;32m    485\u001b[0m         inputs\u001b[39m=\u001b[39minputs,\n\u001b[1;32m    486\u001b[0m     )\n\u001b[1;32m    487\u001b[0m torch\u001b[39m.\u001b[39mautograd\u001b[39m.\u001b[39mbackward(\n\u001b[0;32m--> 488\u001b[0m     \u001b[39mself\u001b[39m, gradient, retain_graph, create_graph, inputs\u001b[39m=\u001b[39minputs\n\u001b[1;32m    489\u001b[0m )\n",
      "File \u001b[0;32m~/miniforge3/envs/pytorch/lib/python3.10/site-packages/torch/autograd/__init__.py:197\u001b[0m, in \u001b[0;36mbackward\u001b[0;34m(tensors, grad_tensors, retain_graph, create_graph, grad_variables, inputs)\u001b[0m\n\u001b[1;32m    194\u001b[0m     if retain_graph is None:\n\u001b[1;32m    195\u001b[0m         retain_graph = create_graph\n\u001b[0;32m--> 197\u001b[0m     # The reason we repeat same the comment below is that\n\u001b[1;32m    198\u001b[0m     # some Python versions print out the first line of a multi-line function\n\u001b[1;32m    199\u001b[0m     # calls in the traceback and some print out the last line\n\u001b[1;32m    200\u001b[0m     Variable._execution_engine.run_backward(  # Calls into the C++ engine to run the backward pass\n\u001b[1;32m    201\u001b[0m         tensors, grad_tensors_, retain_graph, create_graph, inputs,\n\u001b[1;32m    202\u001b[0m         allow_unreachable=True, accumulate_grad=True)  # Calls into the C++ engine to run the backward pass\n\u001b[1;32m    204\u001b[0m def grad(\n\u001b[1;32m    205\u001b[0m     outputs: _TensorOrTensors,\n\u001b[1;32m    206\u001b[0m     inputs: _TensorOrTensors,\n\u001b[0;32m   (...)\u001b[0m\n\u001b[1;32m    212\u001b[0m     is_grads_batched: bool = False\n\u001b[1;32m    213\u001b[0m ) -> Tuple[torch.Tensor, ...]:\n",
      "\u001b[0;31mKeyboardInterrupt\u001b[0m: "
     ]
    }
   ],
   "source": [
    "from ultralytics import YOLO\n",
    "\n",
    "# Load a model\n",
    "model = YOLO('yolov8n.pt')  # build a new model from YAML and use Metal\n",
    "\n",
    "# Train the model\n",
    "model.train(data='/Volumes/T7/Project_Database/2023_Google_Solution_Challenge/DL-GoldenHour/wound_detection/Wound-Object-Detection-1/data.yaml', epochs=50, imgsz=640)\n"
   ]
  },
  {
   "attachments": {},
   "cell_type": "markdown",
   "metadata": {},
   "source": [
    "# Convert model from pt to tflite"
   ]
  },
  {
   "cell_type": "code",
   "execution_count": null,
   "metadata": {},
   "outputs": [],
   "source": [
    "from ultralytics import YOLO\n",
    "\n",
    "# Load a model\n",
    "model = YOLO('yolov8n.pt')  # load an official model\n",
    "model = YOLO('/content/runs/detect/train/weights/best.pt')  # load a custom trained\n",
    "\n",
    "# Export the model\n",
    "model.export(format='onnx')"
   ]
  },
  {
   "attachments": {},
   "cell_type": "markdown",
   "metadata": {},
   "source": [
    "### Tensorflow part"
   ]
  },
  {
   "cell_type": "code",
   "execution_count": 1,
   "metadata": {},
   "outputs": [
    {
     "name": "stdout",
     "output_type": "stream",
     "text": [
      "Collecting onnx\n",
      "  Downloading onnx-1.13.1-cp38-cp38-macosx_10_12_universal2.whl (14.1 MB)\n",
      "\u001b[2K     \u001b[90m━━━━━━━━━━━━━━━━━━━━━━━━━━━━━━━━━━━━━━━━\u001b[0m \u001b[32m14.1/14.1 MB\u001b[0m \u001b[31m4.2 MB/s\u001b[0m eta \u001b[36m0:00:00\u001b[0m00:01\u001b[0m00:01\u001b[0m\n",
      "\u001b[?25hRequirement already satisfied: numpy>=1.16.6 in /Users/hwangjaeyeong/miniforge3/envs/tf/lib/python3.8/site-packages (from onnx) (1.23.2)\n",
      "Requirement already satisfied: typing-extensions>=3.6.2.1 in /Users/hwangjaeyeong/miniforge3/envs/tf/lib/python3.8/site-packages (from onnx) (4.4.0)\n",
      "Collecting protobuf<4,>=3.20.2\n",
      "  Using cached protobuf-3.20.3-py2.py3-none-any.whl (162 kB)\n",
      "Installing collected packages: protobuf, onnx\n",
      "  Attempting uninstall: protobuf\n",
      "    Found existing installation: protobuf 3.19.4\n",
      "    Uninstalling protobuf-3.19.4:\n",
      "      Successfully uninstalled protobuf-3.19.4\n",
      "\u001b[31mERROR: pip's dependency resolver does not currently take into account all the packages that are installed. This behaviour is the source of the following dependency conflicts.\n",
      "tensorflow-macos 2.9.0 requires flatbuffers<2,>=1.12, but you have flatbuffers 23.3.3 which is incompatible.\n",
      "tensorboard 2.9.1 requires protobuf<3.20,>=3.9.2, but you have protobuf 3.20.3 which is incompatible.\u001b[0m\u001b[31m\n",
      "\u001b[0mSuccessfully installed onnx-1.13.1 protobuf-3.20.3\n"
     ]
    }
   ],
   "source": [
    "!pip install onnx"
   ]
  },
  {
   "cell_type": "code",
   "execution_count": 2,
   "metadata": {},
   "outputs": [
    {
     "name": "stdout",
     "output_type": "stream",
     "text": [
      "Collecting onnx_tf\n",
      "  Using cached onnx_tf-1.10.0-py3-none-any.whl (226 kB)\n",
      "Requirement already satisfied: onnx>=1.10.2 in /Users/hwangjaeyeong/miniforge3/envs/tf/lib/python3.8/site-packages (from onnx_tf) (1.13.1)\n",
      "Requirement already satisfied: PyYAML in /Users/hwangjaeyeong/miniforge3/envs/tf/lib/python3.8/site-packages (from onnx_tf) (6.0)\n",
      "Collecting tensorflow-addons\n",
      "  Downloading tensorflow_addons-0.19.0-cp38-cp38-macosx_11_0_arm64.whl (11.1 MB)\n",
      "\u001b[2K     \u001b[90m━━━━━━━━━━━━━━━━━━━━━━━━━━━━━━━━━━━━━━━━\u001b[0m \u001b[32m11.1/11.1 MB\u001b[0m \u001b[31m3.4 MB/s\u001b[0m eta \u001b[36m0:00:00\u001b[0m00:01\u001b[0m00:01\u001b[0m\n",
      "\u001b[?25hRequirement already satisfied: typing-extensions>=3.6.2.1 in /Users/hwangjaeyeong/miniforge3/envs/tf/lib/python3.8/site-packages (from onnx>=1.10.2->onnx_tf) (4.4.0)\n",
      "Requirement already satisfied: protobuf<4,>=3.20.2 in /Users/hwangjaeyeong/miniforge3/envs/tf/lib/python3.8/site-packages (from onnx>=1.10.2->onnx_tf) (3.20.3)\n",
      "Requirement already satisfied: numpy>=1.16.6 in /Users/hwangjaeyeong/miniforge3/envs/tf/lib/python3.8/site-packages (from onnx>=1.10.2->onnx_tf) (1.23.2)\n",
      "Collecting typeguard>=2.7\n",
      "  Using cached typeguard-3.0.1-py3-none-any.whl (30 kB)\n",
      "Requirement already satisfied: packaging in /Users/hwangjaeyeong/miniforge3/envs/tf/lib/python3.8/site-packages (from tensorflow-addons->onnx_tf) (22.0)\n",
      "Requirement already satisfied: importlib-metadata>=3.6 in /Users/hwangjaeyeong/miniforge3/envs/tf/lib/python3.8/site-packages (from typeguard>=2.7->tensorflow-addons->onnx_tf) (5.1.0)\n",
      "Requirement already satisfied: zipp>=0.5 in /Users/hwangjaeyeong/miniforge3/envs/tf/lib/python3.8/site-packages (from importlib-metadata>=3.6->typeguard>=2.7->tensorflow-addons->onnx_tf) (3.11.0)\n",
      "Installing collected packages: typeguard, tensorflow-addons, onnx_tf\n",
      "Successfully installed onnx_tf-1.10.0 tensorflow-addons-0.19.0 typeguard-3.0.1\n"
     ]
    }
   ],
   "source": [
    "!pip install onnx_tf"
   ]
  },
  {
   "cell_type": "code",
   "execution_count": 4,
   "metadata": {},
   "outputs": [
    {
     "name": "stdout",
     "output_type": "stream",
     "text": [
      "Collecting tensorflow_probability\n",
      "  Downloading tensorflow_probability-0.19.0-py2.py3-none-any.whl (6.7 MB)\n",
      "\u001b[2K     \u001b[90m━━━━━━━━━━━━━━━━━━━━━━━━━━━━━━━━━━━━━━━━\u001b[0m \u001b[32m6.7/6.7 MB\u001b[0m \u001b[31m2.2 MB/s\u001b[0m eta \u001b[36m0:00:00\u001b[0m00:01\u001b[0m00:01\u001b[0m\n",
      "\u001b[?25hRequirement already satisfied: gast>=0.3.2 in /Users/hwangjaeyeong/miniforge3/envs/tf/lib/python3.8/site-packages (from tensorflow_probability) (0.4.0)\n",
      "Requirement already satisfied: decorator in /Users/hwangjaeyeong/miniforge3/envs/tf/lib/python3.8/site-packages (from tensorflow_probability) (5.1.1)\n",
      "Requirement already satisfied: six>=1.10.0 in /Users/hwangjaeyeong/miniforge3/envs/tf/lib/python3.8/site-packages (from tensorflow_probability) (1.15.0)\n",
      "Collecting cloudpickle>=1.3\n",
      "  Using cached cloudpickle-2.2.1-py3-none-any.whl (25 kB)\n",
      "Requirement already satisfied: absl-py in /Users/hwangjaeyeong/miniforge3/envs/tf/lib/python3.8/site-packages (from tensorflow_probability) (1.3.0)\n",
      "Collecting dm-tree\n",
      "  Downloading dm_tree-0.1.8-cp38-cp38-macosx_11_0_arm64.whl (110 kB)\n",
      "\u001b[2K     \u001b[90m━━━━━━━━━━━━━━━━━━━━━━━━━━━━━━━━━━━━━━━\u001b[0m \u001b[32m110.7/110.7 kB\u001b[0m \u001b[31m3.3 MB/s\u001b[0m eta \u001b[36m0:00:00\u001b[0ma \u001b[36m0:00:01\u001b[0m\n",
      "\u001b[?25hRequirement already satisfied: numpy>=1.13.3 in /Users/hwangjaeyeong/miniforge3/envs/tf/lib/python3.8/site-packages (from tensorflow_probability) (1.23.2)\n",
      "Installing collected packages: dm-tree, cloudpickle, tensorflow_probability\n",
      "Successfully installed cloudpickle-2.2.1 dm-tree-0.1.8 tensorflow_probability-0.19.0\n"
     ]
    }
   ],
   "source": [
    "!pip install tensorflow_probability"
   ]
  },
  {
   "cell_type": "code",
   "execution_count": 12,
   "metadata": {},
   "outputs": [
    {
     "name": "stdout",
     "output_type": "stream",
     "text": [
      "Collecting tensorflow-macos==2.11.0\n",
      "  Using cached tensorflow_macos-2.11.0-cp38-cp38-macosx_12_0_arm64.whl (215.5 MB)\n",
      "Requirement already satisfied: opt-einsum>=2.3.2 in /Users/hwangjaeyeong/miniforge3/envs/tf/lib/python3.8/site-packages (from tensorflow-macos==2.11.0) (3.3.0)\n",
      "Collecting keras<2.12,>=2.11.0\n",
      "  Using cached keras-2.11.0-py2.py3-none-any.whl (1.7 MB)\n",
      "Requirement already satisfied: packaging in /Users/hwangjaeyeong/miniforge3/envs/tf/lib/python3.8/site-packages (from tensorflow-macos==2.11.0) (22.0)\n",
      "Requirement already satisfied: google-pasta>=0.1.1 in /Users/hwangjaeyeong/miniforge3/envs/tf/lib/python3.8/site-packages (from tensorflow-macos==2.11.0) (0.2.0)\n",
      "Requirement already satisfied: setuptools in /Users/hwangjaeyeong/miniforge3/envs/tf/lib/python3.8/site-packages (from tensorflow-macos==2.11.0) (65.5.1)\n",
      "Requirement already satisfied: grpcio<2.0,>=1.24.3 in /Users/hwangjaeyeong/miniforge3/envs/tf/lib/python3.8/site-packages (from tensorflow-macos==2.11.0) (1.46.3)\n",
      "Requirement already satisfied: h5py>=2.9.0 in /Users/hwangjaeyeong/miniforge3/envs/tf/lib/python3.8/site-packages (from tensorflow-macos==2.11.0) (3.6.0)\n",
      "Requirement already satisfied: libclang>=13.0.0 in /Users/hwangjaeyeong/miniforge3/envs/tf/lib/python3.8/site-packages (from tensorflow-macos==2.11.0) (14.0.6)\n",
      "Requirement already satisfied: typing-extensions>=3.6.6 in /Users/hwangjaeyeong/miniforge3/envs/tf/lib/python3.8/site-packages (from tensorflow-macos==2.11.0) (4.4.0)\n",
      "Requirement already satisfied: protobuf<3.20,>=3.9.2 in /Users/hwangjaeyeong/miniforge3/envs/tf/lib/python3.8/site-packages (from tensorflow-macos==2.11.0) (3.19.6)\n",
      "Requirement already satisfied: six>=1.12.0 in /Users/hwangjaeyeong/miniforge3/envs/tf/lib/python3.8/site-packages (from tensorflow-macos==2.11.0) (1.15.0)\n",
      "Collecting tensorboard<2.12,>=2.11\n",
      "  Downloading tensorboard-2.11.2-py3-none-any.whl (6.0 MB)\n",
      "\u001b[2K     \u001b[90m━━━━━━━━━━━━━━━━━━━━━━━━━━━━━━━━━━━━━━━━\u001b[0m \u001b[32m6.0/6.0 MB\u001b[0m \u001b[31m2.6 MB/s\u001b[0m eta \u001b[36m0:00:00\u001b[0m00:01\u001b[0m00:01\u001b[0m\n",
      "\u001b[?25hRequirement already satisfied: numpy>=1.20 in /Users/hwangjaeyeong/miniforge3/envs/tf/lib/python3.8/site-packages (from tensorflow-macos==2.11.0) (1.23.2)\n",
      "Requirement already satisfied: termcolor>=1.1.0 in /Users/hwangjaeyeong/miniforge3/envs/tf/lib/python3.8/site-packages (from tensorflow-macos==2.11.0) (2.1.1)\n",
      "Requirement already satisfied: gast<=0.4.0,>=0.2.1 in /Users/hwangjaeyeong/miniforge3/envs/tf/lib/python3.8/site-packages (from tensorflow-macos==2.11.0) (0.4.0)\n",
      "Requirement already satisfied: absl-py>=1.0.0 in /Users/hwangjaeyeong/miniforge3/envs/tf/lib/python3.8/site-packages (from tensorflow-macos==2.11.0) (1.3.0)\n",
      "Collecting flatbuffers>=2.0\n",
      "  Using cached flatbuffers-23.3.3-py2.py3-none-any.whl (26 kB)\n",
      "Requirement already satisfied: wrapt>=1.11.0 in /Users/hwangjaeyeong/miniforge3/envs/tf/lib/python3.8/site-packages (from tensorflow-macos==2.11.0) (1.14.1)\n",
      "Requirement already satisfied: astunparse>=1.6.0 in /Users/hwangjaeyeong/miniforge3/envs/tf/lib/python3.8/site-packages (from tensorflow-macos==2.11.0) (1.6.3)\n",
      "Collecting tensorflow-estimator<2.12,>=2.11.0\n",
      "  Using cached tensorflow_estimator-2.11.0-py2.py3-none-any.whl (439 kB)\n",
      "Requirement already satisfied: wheel<1.0,>=0.23.0 in /Users/hwangjaeyeong/miniforge3/envs/tf/lib/python3.8/site-packages (from astunparse>=1.6.0->tensorflow-macos==2.11.0) (0.38.4)\n",
      "Requirement already satisfied: tensorboard-data-server<0.7.0,>=0.6.0 in /Users/hwangjaeyeong/miniforge3/envs/tf/lib/python3.8/site-packages (from tensorboard<2.12,>=2.11->tensorflow-macos==2.11.0) (0.6.1)\n",
      "Requirement already satisfied: markdown>=2.6.8 in /Users/hwangjaeyeong/miniforge3/envs/tf/lib/python3.8/site-packages (from tensorboard<2.12,>=2.11->tensorflow-macos==2.11.0) (3.4.1)\n",
      "Requirement already satisfied: werkzeug>=1.0.1 in /Users/hwangjaeyeong/miniforge3/envs/tf/lib/python3.8/site-packages (from tensorboard<2.12,>=2.11->tensorflow-macos==2.11.0) (2.2.2)\n",
      "Requirement already satisfied: google-auth-oauthlib<0.5,>=0.4.1 in /Users/hwangjaeyeong/miniforge3/envs/tf/lib/python3.8/site-packages (from tensorboard<2.12,>=2.11->tensorflow-macos==2.11.0) (0.4.6)\n",
      "Requirement already satisfied: google-auth<3,>=1.6.3 in /Users/hwangjaeyeong/miniforge3/envs/tf/lib/python3.8/site-packages (from tensorboard<2.12,>=2.11->tensorflow-macos==2.11.0) (2.15.0)\n",
      "Requirement already satisfied: tensorboard-plugin-wit>=1.6.0 in /Users/hwangjaeyeong/miniforge3/envs/tf/lib/python3.8/site-packages (from tensorboard<2.12,>=2.11->tensorflow-macos==2.11.0) (1.8.1)\n",
      "Requirement already satisfied: requests<3,>=2.21.0 in /Users/hwangjaeyeong/miniforge3/envs/tf/lib/python3.8/site-packages (from tensorboard<2.12,>=2.11->tensorflow-macos==2.11.0) (2.28.1)\n",
      "Requirement already satisfied: cachetools<6.0,>=2.0.0 in /Users/hwangjaeyeong/miniforge3/envs/tf/lib/python3.8/site-packages (from google-auth<3,>=1.6.3->tensorboard<2.12,>=2.11->tensorflow-macos==2.11.0) (5.2.0)\n",
      "Requirement already satisfied: pyasn1-modules>=0.2.1 in /Users/hwangjaeyeong/miniforge3/envs/tf/lib/python3.8/site-packages (from google-auth<3,>=1.6.3->tensorboard<2.12,>=2.11->tensorflow-macos==2.11.0) (0.2.8)\n",
      "Requirement already satisfied: rsa<5,>=3.1.4 in /Users/hwangjaeyeong/miniforge3/envs/tf/lib/python3.8/site-packages (from google-auth<3,>=1.6.3->tensorboard<2.12,>=2.11->tensorflow-macos==2.11.0) (4.9)\n",
      "Requirement already satisfied: requests-oauthlib>=0.7.0 in /Users/hwangjaeyeong/miniforge3/envs/tf/lib/python3.8/site-packages (from google-auth-oauthlib<0.5,>=0.4.1->tensorboard<2.12,>=2.11->tensorflow-macos==2.11.0) (1.3.1)\n",
      "Requirement already satisfied: importlib-metadata>=4.4 in /Users/hwangjaeyeong/miniforge3/envs/tf/lib/python3.8/site-packages (from markdown>=2.6.8->tensorboard<2.12,>=2.11->tensorflow-macos==2.11.0) (5.1.0)\n",
      "Requirement already satisfied: certifi>=2017.4.17 in /Users/hwangjaeyeong/miniforge3/envs/tf/lib/python3.8/site-packages (from requests<3,>=2.21.0->tensorboard<2.12,>=2.11->tensorflow-macos==2.11.0) (2022.12.7)\n",
      "Requirement already satisfied: urllib3<1.27,>=1.21.1 in /Users/hwangjaeyeong/miniforge3/envs/tf/lib/python3.8/site-packages (from requests<3,>=2.21.0->tensorboard<2.12,>=2.11->tensorflow-macos==2.11.0) (1.26.13)\n",
      "Requirement already satisfied: charset-normalizer<3,>=2 in /Users/hwangjaeyeong/miniforge3/envs/tf/lib/python3.8/site-packages (from requests<3,>=2.21.0->tensorboard<2.12,>=2.11->tensorflow-macos==2.11.0) (2.1.1)\n",
      "Requirement already satisfied: idna<4,>=2.5 in /Users/hwangjaeyeong/miniforge3/envs/tf/lib/python3.8/site-packages (from requests<3,>=2.21.0->tensorboard<2.12,>=2.11->tensorflow-macos==2.11.0) (2.10)\n",
      "Requirement already satisfied: MarkupSafe>=2.1.1 in /Users/hwangjaeyeong/miniforge3/envs/tf/lib/python3.8/site-packages (from werkzeug>=1.0.1->tensorboard<2.12,>=2.11->tensorflow-macos==2.11.0) (2.1.1)\n",
      "Requirement already satisfied: zipp>=0.5 in /Users/hwangjaeyeong/miniforge3/envs/tf/lib/python3.8/site-packages (from importlib-metadata>=4.4->markdown>=2.6.8->tensorboard<2.12,>=2.11->tensorflow-macos==2.11.0) (3.11.0)\n",
      "Requirement already satisfied: pyasn1<0.5.0,>=0.4.6 in /Users/hwangjaeyeong/miniforge3/envs/tf/lib/python3.8/site-packages (from pyasn1-modules>=0.2.1->google-auth<3,>=1.6.3->tensorboard<2.12,>=2.11->tensorflow-macos==2.11.0) (0.4.8)\n",
      "Requirement already satisfied: oauthlib>=3.0.0 in /Users/hwangjaeyeong/miniforge3/envs/tf/lib/python3.8/site-packages (from requests-oauthlib>=0.7.0->google-auth-oauthlib<0.5,>=0.4.1->tensorboard<2.12,>=2.11->tensorflow-macos==2.11.0) (3.2.2)\n",
      "Installing collected packages: flatbuffers, tensorflow-estimator, keras, tensorboard, tensorflow-macos\n",
      "  Attempting uninstall: flatbuffers\n",
      "    Found existing installation: flatbuffers 1.12\n",
      "    Uninstalling flatbuffers-1.12:\n",
      "      Successfully uninstalled flatbuffers-1.12\n",
      "  Attempting uninstall: tensorflow-estimator\n",
      "    Found existing installation: tensorflow-estimator 2.9.0\n",
      "    Uninstalling tensorflow-estimator-2.9.0:\n",
      "      Successfully uninstalled tensorflow-estimator-2.9.0\n",
      "  Attempting uninstall: keras\n",
      "    Found existing installation: keras 2.9.0\n",
      "    Uninstalling keras-2.9.0:\n",
      "      Successfully uninstalled keras-2.9.0\n",
      "  Attempting uninstall: tensorboard\n",
      "    Found existing installation: tensorboard 2.9.1\n",
      "    Uninstalling tensorboard-2.9.1:\n",
      "      Successfully uninstalled tensorboard-2.9.1\n",
      "  Attempting uninstall: tensorflow-macos\n",
      "    Found existing installation: tensorflow-macos 2.9.0\n",
      "    Uninstalling tensorflow-macos-2.9.0:\n",
      "      Successfully uninstalled tensorflow-macos-2.9.0\n",
      "Successfully installed flatbuffers-23.3.3 keras-2.11.0 tensorboard-2.11.2 tensorflow-estimator-2.11.0 tensorflow-macos-2.11.0\n"
     ]
    }
   ],
   "source": [
    "!python -m pip install tensorflow-macos==2.11.0"
   ]
  },
  {
   "cell_type": "code",
   "execution_count": 13,
   "metadata": {},
   "outputs": [
    {
     "ename": "ImportError",
     "evalue": "This version of TensorFlow Probability requires TensorFlow version >= 2.11; Detected an installation of version 2.9.0. Please upgrade TensorFlow to proceed.",
     "output_type": "error",
     "traceback": [
      "\u001b[0;31m---------------------------------------------------------------------------\u001b[0m",
      "\u001b[0;31mImportError\u001b[0m                               Traceback (most recent call last)",
      "Cell \u001b[0;32mIn[13], line 2\u001b[0m\n\u001b[1;32m      1\u001b[0m \u001b[39mimport\u001b[39;00m \u001b[39monnx\u001b[39;00m\n\u001b[0;32m----> 2\u001b[0m \u001b[39mfrom\u001b[39;00m \u001b[39monnx_tf\u001b[39;00m\u001b[39m.\u001b[39;00m\u001b[39mbackend\u001b[39;00m \u001b[39mimport\u001b[39;00m prepare\n\u001b[1;32m      4\u001b[0m onnx_model \u001b[39m=\u001b[39m onnx\u001b[39m.\u001b[39mload(\u001b[39m\"\u001b[39m\u001b[39m/Volumes/T7/Project_Database/2023_Google_Solution_Challenge/DL-GoldenHour/wound_detection/wound_detection_model/best.onnx\u001b[39m\u001b[39m\"\u001b[39m)\n\u001b[1;32m      5\u001b[0m tf_rep \u001b[39m=\u001b[39m prepare(onnx_model)\n",
      "File \u001b[0;32m~/miniforge3/envs/tf/lib/python3.8/site-packages/onnx_tf/__init__.py:1\u001b[0m\n\u001b[0;32m----> 1\u001b[0m \u001b[39mfrom\u001b[39;00m \u001b[39m.\u001b[39;00m \u001b[39mimport\u001b[39;00m backend\n\u001b[1;32m      2\u001b[0m \u001b[39mfrom\u001b[39;00m \u001b[39m.\u001b[39;00m\u001b[39mversion\u001b[39;00m \u001b[39mimport\u001b[39;00m version \u001b[39mas\u001b[39;00m __version__\n",
      "File \u001b[0;32m~/miniforge3/envs/tf/lib/python3.8/site-packages/onnx_tf/backend.py:28\u001b[0m\n\u001b[1;32m     26\u001b[0m \u001b[39mfrom\u001b[39;00m \u001b[39monnx_tf\u001b[39;00m\u001b[39m.\u001b[39;00m\u001b[39mcommon\u001b[39;00m \u001b[39mimport\u001b[39;00m get_unique_suffix\n\u001b[1;32m     27\u001b[0m \u001b[39mfrom\u001b[39;00m \u001b[39monnx_tf\u001b[39;00m\u001b[39m.\u001b[39;00m\u001b[39mcommon\u001b[39;00m \u001b[39mimport\u001b[39;00m supports_device \u001b[39mas\u001b[39;00m common_supports_device\n\u001b[0;32m---> 28\u001b[0m \u001b[39mfrom\u001b[39;00m \u001b[39monnx_tf\u001b[39;00m\u001b[39m.\u001b[39;00m\u001b[39mcommon\u001b[39;00m\u001b[39m.\u001b[39;00m\u001b[39mhandler_helper\u001b[39;00m \u001b[39mimport\u001b[39;00m get_all_backend_handlers\n\u001b[1;32m     29\u001b[0m \u001b[39mfrom\u001b[39;00m \u001b[39monnx_tf\u001b[39;00m\u001b[39m.\u001b[39;00m\u001b[39mpb_wrapper\u001b[39;00m \u001b[39mimport\u001b[39;00m OnnxNode\n\u001b[1;32m     30\u001b[0m \u001b[39mfrom\u001b[39;00m \u001b[39monnx_tf\u001b[39;00m\u001b[39m.\u001b[39;00m\u001b[39mbackend_tf_module\u001b[39;00m \u001b[39mimport\u001b[39;00m BackendTFModule, TFModule\n",
      "File \u001b[0;32m~/miniforge3/envs/tf/lib/python3.8/site-packages/onnx_tf/common/handler_helper.py:3\u001b[0m\n\u001b[1;32m      1\u001b[0m \u001b[39mfrom\u001b[39;00m \u001b[39monnx\u001b[39;00m \u001b[39mimport\u001b[39;00m defs\n\u001b[0;32m----> 3\u001b[0m \u001b[39mfrom\u001b[39;00m \u001b[39monnx_tf\u001b[39;00m\u001b[39m.\u001b[39;00m\u001b[39mhandlers\u001b[39;00m\u001b[39m.\u001b[39;00m\u001b[39mbackend\u001b[39;00m \u001b[39mimport\u001b[39;00m \u001b[39m*\u001b[39m  \u001b[39m# noqa\u001b[39;00m\n\u001b[1;32m      4\u001b[0m \u001b[39mfrom\u001b[39;00m \u001b[39monnx_tf\u001b[39;00m\u001b[39m.\u001b[39;00m\u001b[39mhandlers\u001b[39;00m\u001b[39m.\u001b[39;00m\u001b[39mbackend_handler\u001b[39;00m \u001b[39mimport\u001b[39;00m BackendHandler\n\u001b[1;32m      5\u001b[0m \u001b[39mimport\u001b[39;00m \u001b[39monnx_tf\u001b[39;00m\u001b[39m.\u001b[39;00m\u001b[39mcommon\u001b[39;00m \u001b[39mas\u001b[39;00m \u001b[39mcommon\u001b[39;00m\n",
      "File \u001b[0;32m~/miniforge3/envs/tf/lib/python3.8/site-packages/onnx_tf/handlers/backend/bernoulli.py:2\u001b[0m\n\u001b[1;32m      1\u001b[0m \u001b[39mimport\u001b[39;00m \u001b[39mtensorflow\u001b[39;00m \u001b[39mas\u001b[39;00m \u001b[39mtf\u001b[39;00m\n\u001b[0;32m----> 2\u001b[0m \u001b[39mfrom\u001b[39;00m \u001b[39mtensorflow_probability\u001b[39;00m \u001b[39mimport\u001b[39;00m distributions \u001b[39mas\u001b[39;00m tfd\n\u001b[1;32m      4\u001b[0m \u001b[39mfrom\u001b[39;00m \u001b[39monnx_tf\u001b[39;00m\u001b[39m.\u001b[39;00m\u001b[39mhandlers\u001b[39;00m\u001b[39m.\u001b[39;00m\u001b[39mbackend_handler\u001b[39;00m \u001b[39mimport\u001b[39;00m BackendHandler\n\u001b[1;32m      5\u001b[0m \u001b[39mfrom\u001b[39;00m \u001b[39monnx_tf\u001b[39;00m\u001b[39m.\u001b[39;00m\u001b[39mhandlers\u001b[39;00m\u001b[39m.\u001b[39;00m\u001b[39mhandler\u001b[39;00m \u001b[39mimport\u001b[39;00m onnx_op\n",
      "File \u001b[0;32m~/miniforge3/envs/tf/lib/python3.8/site-packages/tensorflow_probability/__init__.py:23\u001b[0m\n\u001b[1;32m     20\u001b[0m \u001b[39mfrom\u001b[39;00m \u001b[39mtensorflow_probability\u001b[39;00m \u001b[39mimport\u001b[39;00m substrates\n\u001b[1;32m     21\u001b[0m \u001b[39m# from tensorflow_probability.google import staging  # DisableOnExport\u001b[39;00m\n\u001b[1;32m     22\u001b[0m \u001b[39m# from tensorflow_probability.google import tfp_google  # DisableOnExport\u001b[39;00m\n\u001b[0;32m---> 23\u001b[0m \u001b[39mfrom\u001b[39;00m \u001b[39mtensorflow_probability\u001b[39;00m\u001b[39m.\u001b[39;00m\u001b[39mpython\u001b[39;00m \u001b[39mimport\u001b[39;00m \u001b[39m*\u001b[39m  \u001b[39m# pylint: disable=wildcard-import\u001b[39;00m\n\u001b[1;32m     24\u001b[0m \u001b[39mfrom\u001b[39;00m \u001b[39mtensorflow_probability\u001b[39;00m\u001b[39m.\u001b[39;00m\u001b[39mpython\u001b[39;00m\u001b[39m.\u001b[39;00m\u001b[39mversion\u001b[39;00m \u001b[39mimport\u001b[39;00m __version__\n",
      "File \u001b[0;32m~/miniforge3/envs/tf/lib/python3.8/site-packages/tensorflow_probability/python/__init__.py:138\u001b[0m\n\u001b[1;32m    135\u001b[0m \u001b[39mif\u001b[39;00m _tf_loaded():\n\u001b[1;32m    136\u001b[0m   \u001b[39m# Non-lazy load of packages that register with tensorflow or keras.\u001b[39;00m\n\u001b[1;32m    137\u001b[0m   \u001b[39mfor\u001b[39;00m pkg_name \u001b[39min\u001b[39;00m _maybe_nonlazy_load:\n\u001b[0;32m--> 138\u001b[0m     \u001b[39mdir\u001b[39;49m(\u001b[39mglobals\u001b[39;49m()[pkg_name])  \u001b[39m# Forces loading the package from its lazy loader.\u001b[39;00m\n\u001b[1;32m    141\u001b[0m all_util\u001b[39m.\u001b[39mremove_undocumented(\u001b[39m__name__\u001b[39m, _lazy_load \u001b[39m+\u001b[39m _maybe_nonlazy_load)\n",
      "File \u001b[0;32m~/miniforge3/envs/tf/lib/python3.8/site-packages/tensorflow_probability/python/internal/lazy_loader.py:57\u001b[0m, in \u001b[0;36mLazyLoader.__dir__\u001b[0;34m(self)\u001b[0m\n\u001b[1;32m     56\u001b[0m \u001b[39mdef\u001b[39;00m \u001b[39m__dir__\u001b[39m(\u001b[39mself\u001b[39m):\n\u001b[0;32m---> 57\u001b[0m   module \u001b[39m=\u001b[39m \u001b[39mself\u001b[39;49m\u001b[39m.\u001b[39;49m_load()\n\u001b[1;32m     58\u001b[0m   \u001b[39mreturn\u001b[39;00m \u001b[39mdir\u001b[39m(module)\n",
      "File \u001b[0;32m~/miniforge3/envs/tf/lib/python3.8/site-packages/tensorflow_probability/python/internal/lazy_loader.py:37\u001b[0m, in \u001b[0;36mLazyLoader._load\u001b[0;34m(self)\u001b[0m\n\u001b[1;32m     35\u001b[0m \u001b[39m\"\"\"Load the module and insert it into the parent's globals.\"\"\"\u001b[39;00m\n\u001b[1;32m     36\u001b[0m \u001b[39mif\u001b[39;00m callable(\u001b[39mself\u001b[39m\u001b[39m.\u001b[39m_on_first_access):\n\u001b[0;32m---> 37\u001b[0m   \u001b[39mself\u001b[39;49m\u001b[39m.\u001b[39;49m_on_first_access()\n\u001b[1;32m     38\u001b[0m   \u001b[39mself\u001b[39m\u001b[39m.\u001b[39m_on_first_access \u001b[39m=\u001b[39m \u001b[39mNone\u001b[39;00m\n\u001b[1;32m     39\u001b[0m \u001b[39m# Import the target module and insert it into the parent's namespace\u001b[39;00m\n",
      "File \u001b[0;32m~/miniforge3/envs/tf/lib/python3.8/site-packages/tensorflow_probability/python/__init__.py:59\u001b[0m, in \u001b[0;36m_validate_tf_environment\u001b[0;34m(package)\u001b[0m\n\u001b[1;32m     55\u001b[0m \u001b[39m#   required_tensorflow_version = '1.15'  # Needed internally -- DisableOnExport\u001b[39;00m\n\u001b[1;32m     57\u001b[0m   \u001b[39mif\u001b[39;00m (distutils\u001b[39m.\u001b[39mversion\u001b[39m.\u001b[39mLooseVersion(tf\u001b[39m.\u001b[39m__version__) \u001b[39m<\u001b[39m\n\u001b[1;32m     58\u001b[0m       distutils\u001b[39m.\u001b[39mversion\u001b[39m.\u001b[39mLooseVersion(required_tensorflow_version)):\n\u001b[0;32m---> 59\u001b[0m     \u001b[39mraise\u001b[39;00m \u001b[39mImportError\u001b[39;00m(\n\u001b[1;32m     60\u001b[0m         \u001b[39m'\u001b[39m\u001b[39mThis version of TensorFlow Probability requires TensorFlow \u001b[39m\u001b[39m'\u001b[39m\n\u001b[1;32m     61\u001b[0m         \u001b[39m'\u001b[39m\u001b[39mversion >= \u001b[39m\u001b[39m{required}\u001b[39;00m\u001b[39m; Detected an installation of version \u001b[39m\u001b[39m{present}\u001b[39;00m\u001b[39m. \u001b[39m\u001b[39m'\u001b[39m\n\u001b[1;32m     62\u001b[0m         \u001b[39m'\u001b[39m\u001b[39mPlease upgrade TensorFlow to proceed.\u001b[39m\u001b[39m'\u001b[39m\u001b[39m.\u001b[39mformat(\n\u001b[1;32m     63\u001b[0m             required\u001b[39m=\u001b[39mrequired_tensorflow_version,\n\u001b[1;32m     64\u001b[0m             present\u001b[39m=\u001b[39mtf\u001b[39m.\u001b[39m__version__))\n\u001b[1;32m     66\u001b[0m   \u001b[39mif\u001b[39;00m (package \u001b[39m==\u001b[39m \u001b[39m'\u001b[39m\u001b[39mmcmc\u001b[39m\u001b[39m'\u001b[39m \u001b[39mand\u001b[39;00m\n\u001b[1;32m     67\u001b[0m       tf\u001b[39m.\u001b[39mconfig\u001b[39m.\u001b[39mexperimental\u001b[39m.\u001b[39mtensor_float_32_execution_enabled()):\n\u001b[1;32m     68\u001b[0m     \u001b[39m# Must import here, because symbols get pruned to __all__.\u001b[39;00m\n\u001b[1;32m     69\u001b[0m     \u001b[39mimport\u001b[39;00m \u001b[39mwarnings\u001b[39;00m\n",
      "\u001b[0;31mImportError\u001b[0m: This version of TensorFlow Probability requires TensorFlow version >= 2.11; Detected an installation of version 2.9.0. Please upgrade TensorFlow to proceed."
     ]
    }
   ],
   "source": [
    "import onnx\n",
    "from onnx_tf.backend import prepare\n",
    "\n",
    "onnx_model = onnx.load(\"/Volumes/T7/Project_Database/2023_Google_Solution_Challenge/DL-GoldenHour/wound_detection/wound_detection_model/best.onnx\")\n",
    "tf_rep = prepare(onnx_model)\n",
    "tf_rep.export_graph(\"/Volumes/T7/Project_Database/2023_Google_Solution_Challenge/DL-GoldenHour/wound_detection/wound_detection_model/best.pb\")"
   ]
  },
  {
   "cell_type": "code",
   "execution_count": 14,
   "metadata": {},
   "outputs": [
    {
     "name": "stdout",
     "output_type": "stream",
     "text": [
      "WARNING:tensorflow:From /Users/hwangjaeyeong/miniforge3/envs/tf/lib/python3.8/site-packages/tensorflow/python/compat/v2_compat.py:107: disable_resource_variables (from tensorflow.python.ops.variable_scope) is deprecated and will be removed in a future version.\n",
      "Instructions for updating:\n",
      "non-resource variables are not supported in the long term\n",
      "Metal device set to: Apple M1\n",
      "\n",
      "systemMemory: 16.00 GB\n",
      "maxCacheSize: 5.33 GB\n",
      "\n"
     ]
    },
    {
     "name": "stderr",
     "output_type": "stream",
     "text": [
      "2023-03-22 16:37:06.671038: I tensorflow/core/common_runtime/pluggable_device/pluggable_device_factory.cc:305] Could not identify NUMA node of platform GPU ID 0, defaulting to 0. Your kernel may not have been built with NUMA support.\n",
      "2023-03-22 16:37:06.672525: I tensorflow/core/common_runtime/pluggable_device/pluggable_device_factory.cc:271] Created TensorFlow device (/job:localhost/replica:0/task:0/device:GPU:0 with 0 MB memory) -> physical PluggableDevice (device: 0, name: METAL, pci bus id: <undefined>)\n",
      "/Users/hwangjaeyeong/miniforge3/envs/tf/lib/python3.8/site-packages/tensorflow/lite/python/lite.py:2654: RuntimeWarning: Unexpected end-group tag: Not all data was converted\n",
      "  file_content = f.read()\n"
     ]
    },
    {
     "ename": "ValueError",
     "evalue": "Invalid tensors 'images' were found.",
     "output_type": "error",
     "traceback": [
      "\u001b[0;31m---------------------------------------------------------------------------\u001b[0m",
      "\u001b[0;31mValueError\u001b[0m                                Traceback (most recent call last)",
      "Cell \u001b[0;32mIn[14], line 10\u001b[0m\n\u001b[1;32m      6\u001b[0m output_arrays \u001b[39m=\u001b[39m [\u001b[39m\"\u001b[39m\u001b[39moutput\u001b[39m\u001b[39m\"\u001b[39m]\n\u001b[1;32m      8\u001b[0m tflite_file \u001b[39m=\u001b[39m \u001b[39m\"\u001b[39m\u001b[39m/Volumes/T7/Project_Database/2023_Google_Solution_Challenge/DL-GoldenHour/wound_detection/wound_detection_model/best.tflite\u001b[39m\u001b[39m\"\u001b[39m\n\u001b[0;32m---> 10\u001b[0m converter \u001b[39m=\u001b[39m tf\u001b[39m.\u001b[39;49mlite\u001b[39m.\u001b[39;49mTFLiteConverter\u001b[39m.\u001b[39;49mfrom_frozen_graph(graph_def_file, input_arrays, output_arrays)\n\u001b[1;32m     12\u001b[0m tflite_model \u001b[39m=\u001b[39m converter\u001b[39m.\u001b[39mconvert()\n\u001b[1;32m     14\u001b[0m \u001b[39mopen\u001b[39m(tflite_file, \u001b[39m'\u001b[39m\u001b[39mwb\u001b[39m\u001b[39m'\u001b[39m)\u001b[39m.\u001b[39mwrite(tflite_model)\n",
      "File \u001b[0;32m~/miniforge3/envs/tf/lib/python3.8/site-packages/tensorflow/lite/python/lite.py:2684\u001b[0m, in \u001b[0;36mfrom_frozen_graph\u001b[0;34m(cls, graph_def_file, input_arrays, output_arrays, input_shapes)\u001b[0m\n\u001b[1;32m   2681\u001b[0m if not _is_frozen_graph(sess):\n\u001b[1;32m   2682\u001b[0m   raise ValueError(\"Please freeze the graph using freeze_graph.py.\")\n\u001b[0;32m-> 2684\u001b[0m # Get input and output tensors.\n\u001b[1;32m   2685\u001b[0m input_tensors = _get_tensors_from_tensor_names(\n\u001b[1;32m   2686\u001b[0m     sess.graph, input_arrays)\n\u001b[1;32m   2687\u001b[0m output_tensors = _get_tensors_from_tensor_names(\n\u001b[1;32m   2688\u001b[0m     sess.graph, output_arrays)\n",
      "File \u001b[0;32m~/miniforge3/envs/tf/lib/python3.8/site-packages/tensorflow/lite/python/util.py:170\u001b[0m, in \u001b[0;36mget_tensors_from_tensor_names\u001b[0;34m(graph, tensor_names)\u001b[0m\n\u001b[1;32m    167\u001b[0m \u001b[39mif\u001b[39;00m invalid_tensors:\n\u001b[1;32m    168\u001b[0m   \u001b[39mraise\u001b[39;00m \u001b[39mValueError\u001b[39;00m(\u001b[39m\"\u001b[39m\u001b[39mInvalid tensors \u001b[39m\u001b[39m'\u001b[39m\u001b[39m{}\u001b[39;00m\u001b[39m'\u001b[39m\u001b[39m were found.\u001b[39m\u001b[39m\"\u001b[39m\u001b[39m.\u001b[39mformat(\n\u001b[1;32m    169\u001b[0m       \u001b[39m\"\u001b[39m\u001b[39m,\u001b[39m\u001b[39m\"\u001b[39m\u001b[39m.\u001b[39mjoin(invalid_tensors)))\n\u001b[0;32m--> 170\u001b[0m \u001b[39mreturn\u001b[39;00m tensors\n",
      "\u001b[0;31mValueError\u001b[0m: Invalid tensors 'images' were found."
     ]
    }
   ],
   "source": [
    "import tensorflow as tf\n",
    "saved_model_dir = \"/content/runs/detect/train/weights/best.pb\"\n",
    "converter = tf.lite.TFLiteConverter.from_saved_model(saved_model_dir)\n",
    "converter.target_spec.supported_ops = [tf.lite.OpsSet.TFLITE_BUILTINS, tf.lite.OpsSet.SELECT_TF_OPS]\n",
    "tflite_model = converter.convert()\n",
    "open(\"/content/runs/detect/train/weights/best.tflite\", \"wb\").write(tflite_model)"
   ]
  },
  {
   "cell_type": "code",
   "execution_count": null,
   "metadata": {},
   "outputs": [],
   "source": []
  }
 ],
 "metadata": {
  "kernelspec": {
   "display_name": "tf",
   "language": "python",
   "name": "python3"
  },
  "language_info": {
   "codemirror_mode": {
    "name": "ipython",
    "version": 3
   },
   "file_extension": ".py",
   "mimetype": "text/x-python",
   "name": "python",
   "nbconvert_exporter": "python",
   "pygments_lexer": "ipython3",
   "version": "3.8.6"
  },
  "orig_nbformat": 4
 },
 "nbformat": 4,
 "nbformat_minor": 2
}
